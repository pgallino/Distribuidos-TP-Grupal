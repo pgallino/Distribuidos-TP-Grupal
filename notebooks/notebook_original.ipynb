{
 "cells": [
  {
   "cell_type": "markdown",
   "id": "489d2728",
   "metadata": {
    "papermill": {
     "duration": 0.017586,
     "end_time": "2024-09-24T00:36:59.936036",
     "exception": false,
     "start_time": "2024-09-24T00:36:59.918450",
     "status": "completed"
    },
    "tags": []
   },
   "source": [
    "# Data load, clean and join"
   ]
  },
  {
   "cell_type": "code",
   "execution_count": 1,
   "id": "5c8febc5",
   "metadata": {
    "execution": {
     "iopub.execute_input": "2024-09-24T00:36:59.970384Z",
     "iopub.status.busy": "2024-09-24T00:36:59.969929Z",
     "iopub.status.idle": "2024-09-24T00:37:36.550972Z",
     "shell.execute_reply": "2024-09-24T00:37:36.549641Z"
    },
    "papermill": {
     "duration": 36.603004,
     "end_time": "2024-09-24T00:37:36.555107",
     "exception": false,
     "start_time": "2024-09-24T00:36:59.952103",
     "status": "completed"
    },
    "tags": []
   },
   "outputs": [
    {
     "name": "stdout",
     "output_type": "stream",
     "text": [
      "Requirement already satisfied: langid in c:\\users\\alejo\\appdata\\local\\programs\\python\\python312\\lib\\site-packages (1.1.6)\n",
      "Requirement already satisfied: numpy in c:\\users\\alejo\\appdata\\local\\programs\\python\\python312\\lib\\site-packages (from langid) (2.1.1)\n"
     ]
    }
   ],
   "source": [
    "!pip install langid"
   ]
  },
  {
   "cell_type": "code",
   "execution_count": 2,
   "id": "dc4edc60",
   "metadata": {
    "execution": {
     "iopub.execute_input": "2024-09-24T00:37:36.599189Z",
     "iopub.status.busy": "2024-09-24T00:37:36.598782Z",
     "iopub.status.idle": "2024-09-24T00:37:37.570740Z",
     "shell.execute_reply": "2024-09-24T00:37:37.569683Z"
    },
    "papermill": {
     "duration": 0.996356,
     "end_time": "2024-09-24T00:37:37.573577",
     "exception": false,
     "start_time": "2024-09-24T00:37:36.577221",
     "status": "completed"
    },
    "tags": []
   },
   "outputs": [],
   "source": [
    "import numpy as np # linear algebra\n",
    "import pandas as pd # data processing, CSV file I/O (e.g. pd.read_csv)\n",
    "import os\n",
    "import langid\n",
    "import time\n",
    "\n",
    "pd.set_option('display.max_columns', None)\n",
    "pd.set_option('display.max_colwidth', 100)"
   ]
  },
  {
   "cell_type": "code",
   "execution_count": 3,
   "id": "25c5d5e3",
   "metadata": {
    "execution": {
     "iopub.execute_input": "2024-09-24T00:37:37.609602Z",
     "iopub.status.busy": "2024-09-24T00:37:37.608500Z",
     "iopub.status.idle": "2024-09-24T00:38:51.183075Z",
     "shell.execute_reply": "2024-09-24T00:38:51.181948Z"
    },
    "papermill": {
     "duration": 73.595979,
     "end_time": "2024-09-24T00:38:51.185991",
     "exception": false,
     "start_time": "2024-09-24T00:37:37.590012",
     "status": "completed"
    },
    "tags": []
   },
   "outputs": [],
   "source": [
    "games_df = pd.read_csv('games-original.csv', header=None, skiprows=1)\n",
    "reviews_df = pd.read_csv('reviews-original.csv')"
   ]
  },
  {
   "cell_type": "code",
   "execution_count": 4,
   "id": "9797fc59",
   "metadata": {
    "execution": {
     "iopub.execute_input": "2024-09-24T00:38:51.220117Z",
     "iopub.status.busy": "2024-09-24T00:38:51.219661Z",
     "iopub.status.idle": "2024-09-24T00:38:51.227397Z",
     "shell.execute_reply": "2024-09-24T00:38:51.226344Z"
    },
    "papermill": {
     "duration": 0.027498,
     "end_time": "2024-09-24T00:38:51.229850",
     "exception": false,
     "start_time": "2024-09-24T00:38:51.202352",
     "status": "completed"
    },
    "tags": []
   },
   "outputs": [],
   "source": [
    "# Agrego columna \"Unknown\" ya que no viene nomenclada y genera un desfasaje en los indices de columnas\n",
    "games_df_column_names = ['AppID', 'Name', 'Release date', 'Estimated owners', 'Peak CCU', \n",
    "                    'Required age', 'Price', 'Unknown', 'DiscountDLC count', 'About the game', \n",
    "                    'Supported languages', 'Full audio languages', 'Reviews', 'Header image', \n",
    "                    'Website', 'Support url', 'Support email', 'Windows', 'Mac', \n",
    "                    'Linux', 'Metacritic score', 'Metacritic url', 'User score', \n",
    "                    'Positive', 'Negative', 'Score rank', 'Achievements', \n",
    "                    'Recommendations', 'Notes', 'Average playtime forever', \n",
    "                    'Average playtime two weeks', 'Median playtime forever', \n",
    "                    'Median playtime two weeks', 'Developers', 'Publishers', \n",
    "                    'Categories', 'Genres', 'Tags', 'Screenshots', 'Movies']\n",
    "games_df.columns = games_df_column_names"
   ]
  },
  {
   "cell_type": "code",
   "execution_count": 5,
   "id": "cdf526a8",
   "metadata": {
    "execution": {
     "iopub.execute_input": "2024-09-24T00:38:51.263786Z",
     "iopub.status.busy": "2024-09-24T00:38:51.263353Z",
     "iopub.status.idle": "2024-09-24T00:38:51.271869Z",
     "shell.execute_reply": "2024-09-24T00:38:51.270833Z"
    },
    "papermill": {
     "duration": 0.028146,
     "end_time": "2024-09-24T00:38:51.274260",
     "exception": false,
     "start_time": "2024-09-24T00:38:51.246114",
     "status": "completed"
    },
    "tags": []
   },
   "outputs": [
    {
     "data": {
      "text/plain": [
       "(97410, 40)"
      ]
     },
     "execution_count": 5,
     "metadata": {},
     "output_type": "execute_result"
    }
   ],
   "source": [
    "games_df.shape"
   ]
  },
  {
   "cell_type": "code",
   "execution_count": 6,
   "id": "dec49364",
   "metadata": {
    "execution": {
     "iopub.execute_input": "2024-09-24T00:38:51.308412Z",
     "iopub.status.busy": "2024-09-24T00:38:51.307984Z",
     "iopub.status.idle": "2024-09-24T00:38:51.314913Z",
     "shell.execute_reply": "2024-09-24T00:38:51.313880Z"
    },
    "papermill": {
     "duration": 0.02676,
     "end_time": "2024-09-24T00:38:51.317317",
     "exception": false,
     "start_time": "2024-09-24T00:38:51.290557",
     "status": "completed"
    },
    "tags": []
   },
   "outputs": [
    {
     "data": {
      "text/plain": [
       "(6417106, 5)"
      ]
     },
     "execution_count": 6,
     "metadata": {},
     "output_type": "execute_result"
    }
   ],
   "source": [
    "reviews_df.shape"
   ]
  },
  {
   "cell_type": "code",
   "execution_count": 7,
   "id": "7087db37",
   "metadata": {
    "execution": {
     "iopub.execute_input": "2024-09-24T00:38:51.353749Z",
     "iopub.status.busy": "2024-09-24T00:38:51.352942Z",
     "iopub.status.idle": "2024-09-24T00:38:51.368827Z",
     "shell.execute_reply": "2024-09-24T00:38:51.367763Z"
    },
    "papermill": {
     "duration": 0.036897,
     "end_time": "2024-09-24T00:38:51.371262",
     "exception": false,
     "start_time": "2024-09-24T00:38:51.334365",
     "status": "completed"
    },
    "tags": []
   },
   "outputs": [
    {
     "data": {
      "text/plain": [
       "AppID                           int64\n",
       "Name                           object\n",
       "Release date                   object\n",
       "Estimated owners               object\n",
       "Peak CCU                        int64\n",
       "Required age                    int64\n",
       "Price                         float64\n",
       "Unknown                         int64\n",
       "DiscountDLC count               int64\n",
       "About the game                 object\n",
       "Supported languages            object\n",
       "Full audio languages           object\n",
       "Reviews                        object\n",
       "Header image                   object\n",
       "Website                        object\n",
       "Support url                    object\n",
       "Support email                  object\n",
       "Windows                          bool\n",
       "Mac                              bool\n",
       "Linux                            bool\n",
       "Metacritic score                int64\n",
       "Metacritic url                 object\n",
       "User score                      int64\n",
       "Positive                        int64\n",
       "Negative                        int64\n",
       "Score rank                    float64\n",
       "Achievements                    int64\n",
       "Recommendations                 int64\n",
       "Notes                          object\n",
       "Average playtime forever        int64\n",
       "Average playtime two weeks      int64\n",
       "Median playtime forever         int64\n",
       "Median playtime two weeks       int64\n",
       "Developers                     object\n",
       "Publishers                     object\n",
       "Categories                     object\n",
       "Genres                         object\n",
       "Tags                           object\n",
       "Screenshots                    object\n",
       "Movies                         object\n",
       "dtype: object"
      ]
     },
     "execution_count": 7,
     "metadata": {},
     "output_type": "execute_result"
    }
   ],
   "source": [
    "games_df.dtypes"
   ]
  },
  {
   "cell_type": "code",
   "execution_count": 8,
   "id": "dfaec3d2",
   "metadata": {
    "execution": {
     "iopub.execute_input": "2024-09-24T00:38:51.406943Z",
     "iopub.status.busy": "2024-09-24T00:38:51.406100Z",
     "iopub.status.idle": "2024-09-24T00:38:51.415582Z",
     "shell.execute_reply": "2024-09-24T00:38:51.414368Z"
    },
    "papermill": {
     "duration": 0.029836,
     "end_time": "2024-09-24T00:38:51.417927",
     "exception": false,
     "start_time": "2024-09-24T00:38:51.388091",
     "status": "completed"
    },
    "tags": []
   },
   "outputs": [
    {
     "data": {
      "text/plain": [
       "app_id           int64\n",
       "app_name        object\n",
       "review_text     object\n",
       "review_score     int64\n",
       "review_votes     int64\n",
       "dtype: object"
      ]
     },
     "execution_count": 8,
     "metadata": {},
     "output_type": "execute_result"
    }
   ],
   "source": [
    "reviews_df.dtypes"
   ]
  },
  {
   "cell_type": "code",
   "execution_count": 9,
   "id": "e38a3fa5",
   "metadata": {
    "execution": {
     "iopub.execute_input": "2024-09-24T00:38:51.454059Z",
     "iopub.status.busy": "2024-09-24T00:38:51.453618Z",
     "iopub.status.idle": "2024-09-24T00:38:51.492806Z",
     "shell.execute_reply": "2024-09-24T00:38:51.491700Z"
    },
    "papermill": {
     "duration": 0.061445,
     "end_time": "2024-09-24T00:38:51.495954",
     "exception": false,
     "start_time": "2024-09-24T00:38:51.434509",
     "status": "completed"
    },
    "tags": []
   },
   "outputs": [
    {
     "data": {
      "text/html": [
       "<div>\n",
       "<style scoped>\n",
       "    .dataframe tbody tr th:only-of-type {\n",
       "        vertical-align: middle;\n",
       "    }\n",
       "\n",
       "    .dataframe tbody tr th {\n",
       "        vertical-align: top;\n",
       "    }\n",
       "\n",
       "    .dataframe thead th {\n",
       "        text-align: right;\n",
       "    }\n",
       "</style>\n",
       "<table border=\"1\" class=\"dataframe\">\n",
       "  <thead>\n",
       "    <tr style=\"text-align: right;\">\n",
       "      <th></th>\n",
       "      <th>AppID</th>\n",
       "      <th>Name</th>\n",
       "      <th>Release date</th>\n",
       "      <th>Estimated owners</th>\n",
       "      <th>Peak CCU</th>\n",
       "      <th>Required age</th>\n",
       "      <th>Price</th>\n",
       "      <th>Unknown</th>\n",
       "      <th>DiscountDLC count</th>\n",
       "      <th>About the game</th>\n",
       "      <th>Supported languages</th>\n",
       "      <th>Full audio languages</th>\n",
       "      <th>Reviews</th>\n",
       "      <th>Header image</th>\n",
       "      <th>Website</th>\n",
       "      <th>Support url</th>\n",
       "      <th>Support email</th>\n",
       "      <th>Windows</th>\n",
       "      <th>Mac</th>\n",
       "      <th>Linux</th>\n",
       "      <th>Metacritic score</th>\n",
       "      <th>Metacritic url</th>\n",
       "      <th>User score</th>\n",
       "      <th>Positive</th>\n",
       "      <th>Negative</th>\n",
       "      <th>Score rank</th>\n",
       "      <th>Achievements</th>\n",
       "      <th>Recommendations</th>\n",
       "      <th>Notes</th>\n",
       "      <th>Average playtime forever</th>\n",
       "      <th>Average playtime two weeks</th>\n",
       "      <th>Median playtime forever</th>\n",
       "      <th>Median playtime two weeks</th>\n",
       "      <th>Developers</th>\n",
       "      <th>Publishers</th>\n",
       "      <th>Categories</th>\n",
       "      <th>Genres</th>\n",
       "      <th>Tags</th>\n",
       "      <th>Screenshots</th>\n",
       "      <th>Movies</th>\n",
       "    </tr>\n",
       "  </thead>\n",
       "  <tbody>\n",
       "    <tr>\n",
       "      <th>0</th>\n",
       "      <td>20200</td>\n",
       "      <td>Galactic Bowling</td>\n",
       "      <td>Oct 21, 2008</td>\n",
       "      <td>0 - 20000</td>\n",
       "      <td>0</td>\n",
       "      <td>0</td>\n",
       "      <td>19.99</td>\n",
       "      <td>0</td>\n",
       "      <td>0</td>\n",
       "      <td>Galactic Bowling is an exaggerated and stylized bowling game with an intergalactic twist. Player...</td>\n",
       "      <td>['English']</td>\n",
       "      <td>[]</td>\n",
       "      <td>NaN</td>\n",
       "      <td>https://cdn.akamai.steamstatic.com/steam/apps/20200/header.jpg?t=1640121033</td>\n",
       "      <td>http://www.galacticbowling.net</td>\n",
       "      <td>NaN</td>\n",
       "      <td>NaN</td>\n",
       "      <td>True</td>\n",
       "      <td>False</td>\n",
       "      <td>False</td>\n",
       "      <td>0</td>\n",
       "      <td>NaN</td>\n",
       "      <td>0</td>\n",
       "      <td>6</td>\n",
       "      <td>11</td>\n",
       "      <td>NaN</td>\n",
       "      <td>30</td>\n",
       "      <td>0</td>\n",
       "      <td>NaN</td>\n",
       "      <td>0</td>\n",
       "      <td>0</td>\n",
       "      <td>0</td>\n",
       "      <td>0</td>\n",
       "      <td>Perpetual FX Creative</td>\n",
       "      <td>Perpetual FX Creative</td>\n",
       "      <td>Single-player,Multi-player,Steam Achievements,Partial Controller Support</td>\n",
       "      <td>Casual,Indie,Sports</td>\n",
       "      <td>Indie,Casual,Sports,Bowling</td>\n",
       "      <td>https://cdn.akamai.steamstatic.com/steam/apps/20200/0000005994.1920x1080.jpg?t=1640121033,https:...</td>\n",
       "      <td>http://cdn.akamai.steamstatic.com/steam/apps/256863704/movie_max.mp4?t=1638854607</td>\n",
       "    </tr>\n",
       "    <tr>\n",
       "      <th>1</th>\n",
       "      <td>655370</td>\n",
       "      <td>Train Bandit</td>\n",
       "      <td>Oct 12, 2017</td>\n",
       "      <td>0 - 20000</td>\n",
       "      <td>0</td>\n",
       "      <td>0</td>\n",
       "      <td>0.99</td>\n",
       "      <td>0</td>\n",
       "      <td>0</td>\n",
       "      <td>THE LAW!! Looks to be a showdown atop a train. This will be your last fight. Good luck, Train Ba...</td>\n",
       "      <td>['English', 'French', 'Italian', 'German', 'Spanish - Spain', 'Japanese', 'Portuguese - Brazil',...</td>\n",
       "      <td>[]</td>\n",
       "      <td>NaN</td>\n",
       "      <td>https://cdn.akamai.steamstatic.com/steam/apps/655370/header.jpg?t=1617500526</td>\n",
       "      <td>http://trainbandit.com</td>\n",
       "      <td>NaN</td>\n",
       "      <td>support@rustymoyher.com</td>\n",
       "      <td>True</td>\n",
       "      <td>True</td>\n",
       "      <td>False</td>\n",
       "      <td>0</td>\n",
       "      <td>NaN</td>\n",
       "      <td>0</td>\n",
       "      <td>53</td>\n",
       "      <td>5</td>\n",
       "      <td>NaN</td>\n",
       "      <td>12</td>\n",
       "      <td>0</td>\n",
       "      <td>NaN</td>\n",
       "      <td>0</td>\n",
       "      <td>0</td>\n",
       "      <td>0</td>\n",
       "      <td>0</td>\n",
       "      <td>Rusty Moyher</td>\n",
       "      <td>Wild Rooster</td>\n",
       "      <td>Single-player,Steam Achievements,Full controller support,Steam Leaderboards,Remote Play on Phone...</td>\n",
       "      <td>Action,Indie</td>\n",
       "      <td>Indie,Action,Pixel Graphics,2D,Retro,Arcade,Score Attack,Minimalist,Comedy,Singleplayer,Fast-Pac...</td>\n",
       "      <td>https://cdn.akamai.steamstatic.com/steam/apps/655370/ss_16785eac54b29db688870e832f6997c89cd7804b...</td>\n",
       "      <td>http://cdn.akamai.steamstatic.com/steam/apps/256691108/movie_max.mp4?t=1506089586</td>\n",
       "    </tr>\n",
       "    <tr>\n",
       "      <th>2</th>\n",
       "      <td>1732930</td>\n",
       "      <td>Jolt Project</td>\n",
       "      <td>Nov 17, 2021</td>\n",
       "      <td>0 - 20000</td>\n",
       "      <td>0</td>\n",
       "      <td>0</td>\n",
       "      <td>4.99</td>\n",
       "      <td>0</td>\n",
       "      <td>0</td>\n",
       "      <td>Jolt Project: The army now has a new robotics project, jolt. It's up to you to control it and en...</td>\n",
       "      <td>['English', 'Portuguese - Brazil']</td>\n",
       "      <td>[]</td>\n",
       "      <td>NaN</td>\n",
       "      <td>https://cdn.akamai.steamstatic.com/steam/apps/1732930/header.jpg?t=1637149386</td>\n",
       "      <td>NaN</td>\n",
       "      <td>NaN</td>\n",
       "      <td>ramoncampiaof31@gmail.com</td>\n",
       "      <td>True</td>\n",
       "      <td>False</td>\n",
       "      <td>False</td>\n",
       "      <td>0</td>\n",
       "      <td>NaN</td>\n",
       "      <td>0</td>\n",
       "      <td>0</td>\n",
       "      <td>0</td>\n",
       "      <td>NaN</td>\n",
       "      <td>0</td>\n",
       "      <td>0</td>\n",
       "      <td>NaN</td>\n",
       "      <td>0</td>\n",
       "      <td>0</td>\n",
       "      <td>0</td>\n",
       "      <td>0</td>\n",
       "      <td>Campião Games</td>\n",
       "      <td>Campião Games</td>\n",
       "      <td>Single-player</td>\n",
       "      <td>Action,Adventure,Indie,Strategy</td>\n",
       "      <td>NaN</td>\n",
       "      <td>https://cdn.akamai.steamstatic.com/steam/apps/1732930/ss_09d67dec0607be7c4ead80289763033a47c86d8...</td>\n",
       "      <td>http://cdn.akamai.steamstatic.com/steam/apps/256847488/movie_max.mp4?t=1635980739,http://cdn.aka...</td>\n",
       "    </tr>\n",
       "    <tr>\n",
       "      <th>3</th>\n",
       "      <td>1355720</td>\n",
       "      <td>Henosis™</td>\n",
       "      <td>Jul 23, 2020</td>\n",
       "      <td>0 - 20000</td>\n",
       "      <td>0</td>\n",
       "      <td>0</td>\n",
       "      <td>5.99</td>\n",
       "      <td>0</td>\n",
       "      <td>0</td>\n",
       "      <td>HENOSIS™ is a mysterious 2D Platform Puzzler where players are propelled into weird and visceral...</td>\n",
       "      <td>['English', 'French', 'Italian', 'German', 'Spanish - Spain', 'Japanese', 'Korean', 'Portuguese'...</td>\n",
       "      <td>[]</td>\n",
       "      <td>NaN</td>\n",
       "      <td>https://cdn.akamai.steamstatic.com/steam/apps/1355720/header.jpg?t=1639875115</td>\n",
       "      <td>https://henosisgame.com/</td>\n",
       "      <td>https://henosisgame.com/</td>\n",
       "      <td>info@henosisgame.com</td>\n",
       "      <td>True</td>\n",
       "      <td>True</td>\n",
       "      <td>True</td>\n",
       "      <td>0</td>\n",
       "      <td>NaN</td>\n",
       "      <td>0</td>\n",
       "      <td>3</td>\n",
       "      <td>0</td>\n",
       "      <td>NaN</td>\n",
       "      <td>0</td>\n",
       "      <td>0</td>\n",
       "      <td>NaN</td>\n",
       "      <td>0</td>\n",
       "      <td>0</td>\n",
       "      <td>0</td>\n",
       "      <td>0</td>\n",
       "      <td>Odd Critter Games</td>\n",
       "      <td>Odd Critter Games</td>\n",
       "      <td>Single-player,Full controller support</td>\n",
       "      <td>Adventure,Casual,Indie</td>\n",
       "      <td>2D Platformer,Atmospheric,Surreal,Mystery,Puzzle,Survival,Adventure,Linear,Singleplayer,Experime...</td>\n",
       "      <td>https://cdn.akamai.steamstatic.com/steam/apps/1355720/ss_20bbae2d9d5aaa2f043f372a551faabc0c47b0b...</td>\n",
       "      <td>http://cdn.akamai.steamstatic.com/steam/apps/256819153/movie_max.mp4?t=1611314333</td>\n",
       "    </tr>\n",
       "    <tr>\n",
       "      <th>4</th>\n",
       "      <td>1139950</td>\n",
       "      <td>Two Weeks in Painland</td>\n",
       "      <td>Feb 3, 2020</td>\n",
       "      <td>0 - 20000</td>\n",
       "      <td>0</td>\n",
       "      <td>0</td>\n",
       "      <td>0.00</td>\n",
       "      <td>0</td>\n",
       "      <td>0</td>\n",
       "      <td>ABOUT THE GAME Play as a hacker who has arranged a deal with a gangster. That’s how the protagon...</td>\n",
       "      <td>['English', 'Spanish - Spain']</td>\n",
       "      <td>[]</td>\n",
       "      <td>NaN</td>\n",
       "      <td>https://cdn.akamai.steamstatic.com/steam/apps/1139950/header.jpg?t=1595003825</td>\n",
       "      <td>https://www.unusual-games.com/home/</td>\n",
       "      <td>https://www.unusual-games.com/contact/</td>\n",
       "      <td>welistentoyou@unusual-games.com</td>\n",
       "      <td>True</td>\n",
       "      <td>True</td>\n",
       "      <td>False</td>\n",
       "      <td>0</td>\n",
       "      <td>NaN</td>\n",
       "      <td>0</td>\n",
       "      <td>50</td>\n",
       "      <td>8</td>\n",
       "      <td>NaN</td>\n",
       "      <td>17</td>\n",
       "      <td>0</td>\n",
       "      <td>This Game may contain content not appropriate for all ages, or may not be appropriate for viewin...</td>\n",
       "      <td>0</td>\n",
       "      <td>0</td>\n",
       "      <td>0</td>\n",
       "      <td>0</td>\n",
       "      <td>Unusual Games</td>\n",
       "      <td>Unusual Games</td>\n",
       "      <td>Single-player,Steam Achievements</td>\n",
       "      <td>Adventure,Indie</td>\n",
       "      <td>Indie,Adventure,Nudity,Violent,Sexual Content,Story Rich</td>\n",
       "      <td>https://cdn.akamai.steamstatic.com/steam/apps/1139950/ss_cb94604e43f910a3b994f120412bdc5a576222a...</td>\n",
       "      <td>http://cdn.akamai.steamstatic.com/steam/apps/256764430/movie_max.mp4?t=1580660973</td>\n",
       "    </tr>\n",
       "  </tbody>\n",
       "</table>\n",
       "</div>"
      ],
      "text/plain": [
       "     AppID                   Name  Release date Estimated owners  Peak CCU  \\\n",
       "0    20200       Galactic Bowling  Oct 21, 2008        0 - 20000         0   \n",
       "1   655370           Train Bandit  Oct 12, 2017        0 - 20000         0   \n",
       "2  1732930           Jolt Project  Nov 17, 2021        0 - 20000         0   \n",
       "3  1355720               Henosis™  Jul 23, 2020        0 - 20000         0   \n",
       "4  1139950  Two Weeks in Painland   Feb 3, 2020        0 - 20000         0   \n",
       "\n",
       "   Required age  Price  Unknown  DiscountDLC count  \\\n",
       "0             0  19.99        0                  0   \n",
       "1             0   0.99        0                  0   \n",
       "2             0   4.99        0                  0   \n",
       "3             0   5.99        0                  0   \n",
       "4             0   0.00        0                  0   \n",
       "\n",
       "                                                                                        About the game  \\\n",
       "0  Galactic Bowling is an exaggerated and stylized bowling game with an intergalactic twist. Player...   \n",
       "1  THE LAW!! Looks to be a showdown atop a train. This will be your last fight. Good luck, Train Ba...   \n",
       "2  Jolt Project: The army now has a new robotics project, jolt. It's up to you to control it and en...   \n",
       "3  HENOSIS™ is a mysterious 2D Platform Puzzler where players are propelled into weird and visceral...   \n",
       "4  ABOUT THE GAME Play as a hacker who has arranged a deal with a gangster. That’s how the protagon...   \n",
       "\n",
       "                                                                                   Supported languages  \\\n",
       "0                                                                                          ['English']   \n",
       "1  ['English', 'French', 'Italian', 'German', 'Spanish - Spain', 'Japanese', 'Portuguese - Brazil',...   \n",
       "2                                                                   ['English', 'Portuguese - Brazil']   \n",
       "3  ['English', 'French', 'Italian', 'German', 'Spanish - Spain', 'Japanese', 'Korean', 'Portuguese'...   \n",
       "4                                                                       ['English', 'Spanish - Spain']   \n",
       "\n",
       "  Full audio languages Reviews  \\\n",
       "0                   []     NaN   \n",
       "1                   []     NaN   \n",
       "2                   []     NaN   \n",
       "3                   []     NaN   \n",
       "4                   []     NaN   \n",
       "\n",
       "                                                                    Header image  \\\n",
       "0    https://cdn.akamai.steamstatic.com/steam/apps/20200/header.jpg?t=1640121033   \n",
       "1   https://cdn.akamai.steamstatic.com/steam/apps/655370/header.jpg?t=1617500526   \n",
       "2  https://cdn.akamai.steamstatic.com/steam/apps/1732930/header.jpg?t=1637149386   \n",
       "3  https://cdn.akamai.steamstatic.com/steam/apps/1355720/header.jpg?t=1639875115   \n",
       "4  https://cdn.akamai.steamstatic.com/steam/apps/1139950/header.jpg?t=1595003825   \n",
       "\n",
       "                               Website  \\\n",
       "0       http://www.galacticbowling.net   \n",
       "1               http://trainbandit.com   \n",
       "2                                  NaN   \n",
       "3             https://henosisgame.com/   \n",
       "4  https://www.unusual-games.com/home/   \n",
       "\n",
       "                              Support url                    Support email  \\\n",
       "0                                     NaN                              NaN   \n",
       "1                                     NaN          support@rustymoyher.com   \n",
       "2                                     NaN        ramoncampiaof31@gmail.com   \n",
       "3                https://henosisgame.com/             info@henosisgame.com   \n",
       "4  https://www.unusual-games.com/contact/  welistentoyou@unusual-games.com   \n",
       "\n",
       "   Windows    Mac  Linux  Metacritic score Metacritic url  User score  \\\n",
       "0     True  False  False                 0            NaN           0   \n",
       "1     True   True  False                 0            NaN           0   \n",
       "2     True  False  False                 0            NaN           0   \n",
       "3     True   True   True                 0            NaN           0   \n",
       "4     True   True  False                 0            NaN           0   \n",
       "\n",
       "   Positive  Negative  Score rank  Achievements  Recommendations  \\\n",
       "0         6        11         NaN            30                0   \n",
       "1        53         5         NaN            12                0   \n",
       "2         0         0         NaN             0                0   \n",
       "3         3         0         NaN             0                0   \n",
       "4        50         8         NaN            17                0   \n",
       "\n",
       "                                                                                                 Notes  \\\n",
       "0                                                                                                  NaN   \n",
       "1                                                                                                  NaN   \n",
       "2                                                                                                  NaN   \n",
       "3                                                                                                  NaN   \n",
       "4  This Game may contain content not appropriate for all ages, or may not be appropriate for viewin...   \n",
       "\n",
       "   Average playtime forever  Average playtime two weeks  \\\n",
       "0                         0                           0   \n",
       "1                         0                           0   \n",
       "2                         0                           0   \n",
       "3                         0                           0   \n",
       "4                         0                           0   \n",
       "\n",
       "   Median playtime forever  Median playtime two weeks             Developers  \\\n",
       "0                        0                          0  Perpetual FX Creative   \n",
       "1                        0                          0           Rusty Moyher   \n",
       "2                        0                          0          Campião Games   \n",
       "3                        0                          0      Odd Critter Games   \n",
       "4                        0                          0          Unusual Games   \n",
       "\n",
       "              Publishers  \\\n",
       "0  Perpetual FX Creative   \n",
       "1           Wild Rooster   \n",
       "2          Campião Games   \n",
       "3      Odd Critter Games   \n",
       "4          Unusual Games   \n",
       "\n",
       "                                                                                            Categories  \\\n",
       "0                             Single-player,Multi-player,Steam Achievements,Partial Controller Support   \n",
       "1  Single-player,Steam Achievements,Full controller support,Steam Leaderboards,Remote Play on Phone...   \n",
       "2                                                                                        Single-player   \n",
       "3                                                                Single-player,Full controller support   \n",
       "4                                                                     Single-player,Steam Achievements   \n",
       "\n",
       "                            Genres  \\\n",
       "0              Casual,Indie,Sports   \n",
       "1                     Action,Indie   \n",
       "2  Action,Adventure,Indie,Strategy   \n",
       "3           Adventure,Casual,Indie   \n",
       "4                  Adventure,Indie   \n",
       "\n",
       "                                                                                                  Tags  \\\n",
       "0                                                                          Indie,Casual,Sports,Bowling   \n",
       "1  Indie,Action,Pixel Graphics,2D,Retro,Arcade,Score Attack,Minimalist,Comedy,Singleplayer,Fast-Pac...   \n",
       "2                                                                                                  NaN   \n",
       "3  2D Platformer,Atmospheric,Surreal,Mystery,Puzzle,Survival,Adventure,Linear,Singleplayer,Experime...   \n",
       "4                                             Indie,Adventure,Nudity,Violent,Sexual Content,Story Rich   \n",
       "\n",
       "                                                                                           Screenshots  \\\n",
       "0  https://cdn.akamai.steamstatic.com/steam/apps/20200/0000005994.1920x1080.jpg?t=1640121033,https:...   \n",
       "1  https://cdn.akamai.steamstatic.com/steam/apps/655370/ss_16785eac54b29db688870e832f6997c89cd7804b...   \n",
       "2  https://cdn.akamai.steamstatic.com/steam/apps/1732930/ss_09d67dec0607be7c4ead80289763033a47c86d8...   \n",
       "3  https://cdn.akamai.steamstatic.com/steam/apps/1355720/ss_20bbae2d9d5aaa2f043f372a551faabc0c47b0b...   \n",
       "4  https://cdn.akamai.steamstatic.com/steam/apps/1139950/ss_cb94604e43f910a3b994f120412bdc5a576222a...   \n",
       "\n",
       "                                                                                                Movies  \n",
       "0                    http://cdn.akamai.steamstatic.com/steam/apps/256863704/movie_max.mp4?t=1638854607  \n",
       "1                    http://cdn.akamai.steamstatic.com/steam/apps/256691108/movie_max.mp4?t=1506089586  \n",
       "2  http://cdn.akamai.steamstatic.com/steam/apps/256847488/movie_max.mp4?t=1635980739,http://cdn.aka...  \n",
       "3                    http://cdn.akamai.steamstatic.com/steam/apps/256819153/movie_max.mp4?t=1611314333  \n",
       "4                    http://cdn.akamai.steamstatic.com/steam/apps/256764430/movie_max.mp4?t=1580660973  "
      ]
     },
     "execution_count": 9,
     "metadata": {},
     "output_type": "execute_result"
    }
   ],
   "source": [
    "games_df.head()"
   ]
  },
  {
   "cell_type": "code",
   "execution_count": 10,
   "id": "9eee39b1",
   "metadata": {
    "execution": {
     "iopub.execute_input": "2024-09-24T00:38:51.532740Z",
     "iopub.status.busy": "2024-09-24T00:38:51.532178Z",
     "iopub.status.idle": "2024-09-24T00:38:51.544790Z",
     "shell.execute_reply": "2024-09-24T00:38:51.543662Z"
    },
    "papermill": {
     "duration": 0.033764,
     "end_time": "2024-09-24T00:38:51.547222",
     "exception": false,
     "start_time": "2024-09-24T00:38:51.513458",
     "status": "completed"
    },
    "tags": []
   },
   "outputs": [
    {
     "data": {
      "text/html": [
       "<div>\n",
       "<style scoped>\n",
       "    .dataframe tbody tr th:only-of-type {\n",
       "        vertical-align: middle;\n",
       "    }\n",
       "\n",
       "    .dataframe tbody tr th {\n",
       "        vertical-align: top;\n",
       "    }\n",
       "\n",
       "    .dataframe thead th {\n",
       "        text-align: right;\n",
       "    }\n",
       "</style>\n",
       "<table border=\"1\" class=\"dataframe\">\n",
       "  <thead>\n",
       "    <tr style=\"text-align: right;\">\n",
       "      <th></th>\n",
       "      <th>app_id</th>\n",
       "      <th>app_name</th>\n",
       "      <th>review_text</th>\n",
       "      <th>review_score</th>\n",
       "      <th>review_votes</th>\n",
       "    </tr>\n",
       "  </thead>\n",
       "  <tbody>\n",
       "    <tr>\n",
       "      <th>0</th>\n",
       "      <td>10</td>\n",
       "      <td>Counter-Strike</td>\n",
       "      <td>Ruined my life.</td>\n",
       "      <td>1</td>\n",
       "      <td>0</td>\n",
       "    </tr>\n",
       "    <tr>\n",
       "      <th>1</th>\n",
       "      <td>10</td>\n",
       "      <td>Counter-Strike</td>\n",
       "      <td>This will be more of a ''my experience with this game'' type of review, because saying things li...</td>\n",
       "      <td>1</td>\n",
       "      <td>1</td>\n",
       "    </tr>\n",
       "    <tr>\n",
       "      <th>2</th>\n",
       "      <td>10</td>\n",
       "      <td>Counter-Strike</td>\n",
       "      <td>This game saved my virginity.</td>\n",
       "      <td>1</td>\n",
       "      <td>0</td>\n",
       "    </tr>\n",
       "    <tr>\n",
       "      <th>3</th>\n",
       "      <td>10</td>\n",
       "      <td>Counter-Strike</td>\n",
       "      <td>• Do you like original games? • Do you like games that don't lag? • Do you like games you can ru...</td>\n",
       "      <td>1</td>\n",
       "      <td>0</td>\n",
       "    </tr>\n",
       "    <tr>\n",
       "      <th>4</th>\n",
       "      <td>10</td>\n",
       "      <td>Counter-Strike</td>\n",
       "      <td>Easy to learn, hard to master.</td>\n",
       "      <td>1</td>\n",
       "      <td>1</td>\n",
       "    </tr>\n",
       "  </tbody>\n",
       "</table>\n",
       "</div>"
      ],
      "text/plain": [
       "   app_id        app_name  \\\n",
       "0      10  Counter-Strike   \n",
       "1      10  Counter-Strike   \n",
       "2      10  Counter-Strike   \n",
       "3      10  Counter-Strike   \n",
       "4      10  Counter-Strike   \n",
       "\n",
       "                                                                                           review_text  \\\n",
       "0                                                                                      Ruined my life.   \n",
       "1  This will be more of a ''my experience with this game'' type of review, because saying things li...   \n",
       "2                                                                        This game saved my virginity.   \n",
       "3  • Do you like original games? • Do you like games that don't lag? • Do you like games you can ru...   \n",
       "4                                                             Easy to learn, hard to master.             \n",
       "\n",
       "   review_score  review_votes  \n",
       "0             1             0  \n",
       "1             1             1  \n",
       "2             1             0  \n",
       "3             1             0  \n",
       "4             1             1  "
      ]
     },
     "execution_count": 10,
     "metadata": {},
     "output_type": "execute_result"
    }
   ],
   "source": [
    "reviews_df.head()"
   ]
  },
  {
   "cell_type": "code",
   "execution_count": 11,
   "id": "3ebf4d2e",
   "metadata": {
    "execution": {
     "iopub.execute_input": "2024-09-24T00:38:51.584916Z",
     "iopub.status.busy": "2024-09-24T00:38:51.583959Z",
     "iopub.status.idle": "2024-09-24T00:38:51.600240Z",
     "shell.execute_reply": "2024-09-24T00:38:51.599072Z"
    },
    "papermill": {
     "duration": 0.037616,
     "end_time": "2024-09-24T00:38:51.602699",
     "exception": false,
     "start_time": "2024-09-24T00:38:51.565083",
     "status": "completed"
    },
    "tags": []
   },
   "outputs": [
    {
     "data": {
      "text/plain": [
       "97410"
      ]
     },
     "execution_count": 11,
     "metadata": {},
     "output_type": "execute_result"
    }
   ],
   "source": [
    "games_df['AppID'].nunique()"
   ]
  },
  {
   "cell_type": "code",
   "execution_count": 12,
   "id": "3529064f",
   "metadata": {
    "execution": {
     "iopub.execute_input": "2024-09-24T00:38:51.640645Z",
     "iopub.status.busy": "2024-09-24T00:38:51.639568Z",
     "iopub.status.idle": "2024-09-24T00:38:51.683778Z",
     "shell.execute_reply": "2024-09-24T00:38:51.682664Z"
    },
    "papermill": {
     "duration": 0.065761,
     "end_time": "2024-09-24T00:38:51.686343",
     "exception": false,
     "start_time": "2024-09-24T00:38:51.620582",
     "status": "completed"
    },
    "tags": []
   },
   "outputs": [
    {
     "data": {
      "text/plain": [
       "9972"
      ]
     },
     "execution_count": 12,
     "metadata": {},
     "output_type": "execute_result"
    }
   ],
   "source": [
    "reviews_df[\"app_id\"].nunique()"
   ]
  },
  {
   "cell_type": "code",
   "execution_count": 13,
   "id": "198fdc6d",
   "metadata": {
    "execution": {
     "iopub.execute_input": "2024-09-24T00:38:51.724428Z",
     "iopub.status.busy": "2024-09-24T00:38:51.723505Z",
     "iopub.status.idle": "2024-09-24T00:38:51.796144Z",
     "shell.execute_reply": "2024-09-24T00:38:51.794947Z"
    },
    "papermill": {
     "duration": 0.094233,
     "end_time": "2024-09-24T00:38:51.798571",
     "exception": false,
     "start_time": "2024-09-24T00:38:51.704338",
     "status": "completed"
    },
    "tags": []
   },
   "outputs": [
    {
     "data": {
      "text/plain": [
       "review_score\n",
       " 1    5260420\n",
       "-1    1156686\n",
       "Name: count, dtype: int64"
      ]
     },
     "execution_count": 13,
     "metadata": {},
     "output_type": "execute_result"
    }
   ],
   "source": [
    "reviews_df[\"review_score\"].value_counts()"
   ]
  },
  {
   "cell_type": "code",
   "execution_count": 14,
   "id": "5bf1969b",
   "metadata": {
    "execution": {
     "iopub.execute_input": "2024-09-24T00:38:51.836729Z",
     "iopub.status.busy": "2024-09-24T00:38:51.836302Z",
     "iopub.status.idle": "2024-09-24T00:38:51.841209Z",
     "shell.execute_reply": "2024-09-24T00:38:51.840045Z"
    },
    "papermill": {
     "duration": 0.02681,
     "end_time": "2024-09-24T00:38:51.843710",
     "exception": false,
     "start_time": "2024-09-24T00:38:51.816900",
     "status": "completed"
    },
    "tags": []
   },
   "outputs": [],
   "source": [
    "# Dataframes cleaning"
   ]
  },
  {
   "cell_type": "code",
   "execution_count": 15,
   "id": "af77cec5",
   "metadata": {
    "execution": {
     "iopub.execute_input": "2024-09-24T00:38:51.882650Z",
     "iopub.status.busy": "2024-09-24T00:38:51.881562Z",
     "iopub.status.idle": "2024-09-24T00:38:51.887194Z",
     "shell.execute_reply": "2024-09-24T00:38:51.886146Z"
    },
    "papermill": {
     "duration": 0.027585,
     "end_time": "2024-09-24T00:38:51.889532",
     "exception": false,
     "start_time": "2024-09-24T00:38:51.861947",
     "status": "completed"
    },
    "tags": []
   },
   "outputs": [],
   "source": [
    "games_df_columns = ['AppID', 'Name', 'Windows', 'Mac', 'Linux', 'Genres', 'Release date', 'Average playtime forever', 'Positive', 'Negative']\n",
    "reviews_df_columns = ['app_id', 'review_text', 'review_score']"
   ]
  },
  {
   "cell_type": "code",
   "execution_count": 16,
   "id": "41b4bb09",
   "metadata": {
    "execution": {
     "iopub.execute_input": "2024-09-24T00:38:51.928242Z",
     "iopub.status.busy": "2024-09-24T00:38:51.927425Z",
     "iopub.status.idle": "2024-09-24T00:38:54.010481Z",
     "shell.execute_reply": "2024-09-24T00:38:54.009277Z"
    },
    "papermill": {
     "duration": 2.105255,
     "end_time": "2024-09-24T00:38:54.013169",
     "exception": false,
     "start_time": "2024-09-24T00:38:51.907914",
     "status": "completed"
    },
    "tags": []
   },
   "outputs": [],
   "source": [
    "games_df_cleaned = games_df.dropna(subset=games_df_columns)[games_df_columns].copy()\n",
    "reviews_df_cleaned = reviews_df.dropna(subset=reviews_df_columns)[reviews_df_columns].copy()"
   ]
  },
  {
   "cell_type": "code",
   "execution_count": 17,
   "id": "06313a07",
   "metadata": {
    "execution": {
     "iopub.execute_input": "2024-09-24T00:38:54.052023Z",
     "iopub.status.busy": "2024-09-24T00:38:54.051124Z",
     "iopub.status.idle": "2024-09-24T00:38:54.084529Z",
     "shell.execute_reply": "2024-09-24T00:38:54.083487Z"
    },
    "papermill": {
     "duration": 0.055463,
     "end_time": "2024-09-24T00:38:54.087073",
     "exception": false,
     "start_time": "2024-09-24T00:38:54.031610",
     "status": "completed"
    },
    "tags": []
   },
   "outputs": [],
   "source": [
    "games_df_cleaned[\"Genres\"] = games_df_cleaned[\"Genres\"].str.lower()"
   ]
  },
  {
   "cell_type": "code",
   "execution_count": 18,
   "id": "d06b9b7f",
   "metadata": {
    "execution": {
     "iopub.execute_input": "2024-09-24T00:38:54.125374Z",
     "iopub.status.busy": "2024-09-24T00:38:54.124968Z",
     "iopub.status.idle": "2024-09-24T00:38:54.636776Z",
     "shell.execute_reply": "2024-09-24T00:38:54.635799Z"
    },
    "papermill": {
     "duration": 0.533715,
     "end_time": "2024-09-24T00:38:54.639394",
     "exception": false,
     "start_time": "2024-09-24T00:38:54.105679",
     "status": "completed"
    },
    "tags": []
   },
   "outputs": [],
   "source": [
    "reviews_df_cleaned['review_text'] = reviews_df_cleaned['review_text'].astype(str)"
   ]
  },
  {
   "cell_type": "markdown",
   "id": "311cfe94",
   "metadata": {
    "papermill": {
     "duration": 0.017778,
     "end_time": "2024-09-24T00:38:54.675421",
     "exception": false,
     "start_time": "2024-09-24T00:38:54.657643",
     "status": "completed"
    },
    "tags": []
   },
   "source": [
    "# Queries resolution"
   ]
  },
  {
   "cell_type": "markdown",
   "id": "4e981ad7",
   "metadata": {
    "papermill": {
     "duration": 0.018069,
     "end_time": "2024-09-24T00:38:54.711624",
     "exception": false,
     "start_time": "2024-09-24T00:38:54.693555",
     "status": "completed"
    },
    "tags": []
   },
   "source": [
    "## Q1: Cantidad de juegos soportados en cada plataforma (Windows, Linux, MAC)"
   ]
  },
  {
   "cell_type": "code",
   "execution_count": 19,
   "id": "cf2c4c00",
   "metadata": {
    "execution": {
     "iopub.execute_input": "2024-09-24T00:38:54.749848Z",
     "iopub.status.busy": "2024-09-24T00:38:54.748898Z",
     "iopub.status.idle": "2024-09-24T00:38:54.769404Z",
     "shell.execute_reply": "2024-09-24T00:38:54.768322Z"
    },
    "papermill": {
     "duration": 0.042572,
     "end_time": "2024-09-24T00:38:54.772174",
     "exception": false,
     "start_time": "2024-09-24T00:38:54.729602",
     "status": "completed"
    },
    "tags": []
   },
   "outputs": [],
   "source": [
    "windows_supported_games = games_df_cleaned[games_df_cleaned[\"Windows\"] == True]\n",
    "linux_supported_games = games_df_cleaned[games_df_cleaned[\"Linux\"] == True]\n",
    "mac_supported_games = games_df_cleaned[games_df_cleaned[\"Mac\"] == True]"
   ]
  },
  {
   "cell_type": "code",
   "execution_count": 20,
   "id": "93df6edf",
   "metadata": {
    "execution": {
     "iopub.execute_input": "2024-09-24T00:38:54.810507Z",
     "iopub.status.busy": "2024-09-24T00:38:54.810065Z",
     "iopub.status.idle": "2024-09-24T00:38:54.817852Z",
     "shell.execute_reply": "2024-09-24T00:38:54.816770Z"
    },
    "papermill": {
     "duration": 0.029914,
     "end_time": "2024-09-24T00:38:54.820363",
     "exception": false,
     "start_time": "2024-09-24T00:38:54.790449",
     "status": "completed"
    },
    "tags": []
   },
   "outputs": [
    {
     "name": "stdout",
     "output_type": "stream",
     "text": [
      "Total de juegos: 92565\n",
      "Total de juegos soportados en Windows: 92534\n",
      "Total de juegos soportados en Linux: 12307\n",
      "Total de juegos soportados en Mac: 17703\n"
     ]
    }
   ],
   "source": [
    "print(\"Total de juegos: \" + str(games_df_cleaned.shape[0]))\n",
    "print(\"Total de juegos soportados en Windows: \" + str(windows_supported_games.shape[0]))\n",
    "print(\"Total de juegos soportados en Linux: \" + str(linux_supported_games.shape[0]))\n",
    "print(\"Total de juegos soportados en Mac: \" + str(mac_supported_games.shape[0]))"
   ]
  },
  {
   "cell_type": "markdown",
   "id": "cec70ce7",
   "metadata": {
    "papermill": {
     "duration": 0.018078,
     "end_time": "2024-09-24T00:38:54.856821",
     "exception": false,
     "start_time": "2024-09-24T00:38:54.838743",
     "status": "completed"
    },
    "tags": []
   },
   "source": [
    "## Q2: Nombre del top 10 de juegos del género \"Indie\" publicados en la década del 2010 con más tiempo promedio histórico de juego"
   ]
  },
  {
   "cell_type": "code",
   "execution_count": 21,
   "id": "6010c26f",
   "metadata": {
    "execution": {
     "iopub.execute_input": "2024-09-24T00:38:54.895298Z",
     "iopub.status.busy": "2024-09-24T00:38:54.894901Z",
     "iopub.status.idle": "2024-09-24T00:38:54.962033Z",
     "shell.execute_reply": "2024-09-24T00:38:54.961072Z"
    },
    "papermill": {
     "duration": 0.08953,
     "end_time": "2024-09-24T00:38:54.964816",
     "exception": false,
     "start_time": "2024-09-24T00:38:54.875286",
     "status": "completed"
    },
    "tags": []
   },
   "outputs": [],
   "source": [
    "games_indie = games_df_cleaned[games_df_cleaned[\"Genres\"].str.contains(\"indie\")]"
   ]
  },
  {
   "cell_type": "code",
   "execution_count": 22,
   "id": "f19b0dd0",
   "metadata": {
    "execution": {
     "iopub.execute_input": "2024-09-24T00:38:55.004149Z",
     "iopub.status.busy": "2024-09-24T00:38:55.002925Z",
     "iopub.status.idle": "2024-09-24T00:38:55.049707Z",
     "shell.execute_reply": "2024-09-24T00:38:55.048420Z"
    },
    "papermill": {
     "duration": 0.069308,
     "end_time": "2024-09-24T00:38:55.052703",
     "exception": false,
     "start_time": "2024-09-24T00:38:54.983395",
     "status": "completed"
    },
    "tags": []
   },
   "outputs": [],
   "source": [
    "games_indie_2010_decade = games_indie[games_indie[\"Release date\"].str.contains(\"201\")]"
   ]
  },
  {
   "cell_type": "code",
   "execution_count": 23,
   "id": "258bbbc7",
   "metadata": {
    "execution": {
     "iopub.execute_input": "2024-09-24T00:38:55.090954Z",
     "iopub.status.busy": "2024-09-24T00:38:55.090558Z",
     "iopub.status.idle": "2024-09-24T00:38:55.097392Z",
     "shell.execute_reply": "2024-09-24T00:38:55.096347Z"
    },
    "papermill": {
     "duration": 0.028665,
     "end_time": "2024-09-24T00:38:55.099690",
     "exception": false,
     "start_time": "2024-09-24T00:38:55.071025",
     "status": "completed"
    },
    "tags": []
   },
   "outputs": [
    {
     "data": {
      "text/plain": [
       "(64498, 10)"
      ]
     },
     "execution_count": 23,
     "metadata": {},
     "output_type": "execute_result"
    }
   ],
   "source": [
    "games_indie.shape"
   ]
  },
  {
   "cell_type": "code",
   "execution_count": 24,
   "id": "9df90a26",
   "metadata": {
    "execution": {
     "iopub.execute_input": "2024-09-24T00:38:55.139819Z",
     "iopub.status.busy": "2024-09-24T00:38:55.139365Z",
     "iopub.status.idle": "2024-09-24T00:38:55.146359Z",
     "shell.execute_reply": "2024-09-24T00:38:55.145158Z"
    },
    "papermill": {
     "duration": 0.030905,
     "end_time": "2024-09-24T00:38:55.148889",
     "exception": false,
     "start_time": "2024-09-24T00:38:55.117984",
     "status": "completed"
    },
    "tags": []
   },
   "outputs": [
    {
     "data": {
      "text/plain": [
       "(23195, 10)"
      ]
     },
     "execution_count": 24,
     "metadata": {},
     "output_type": "execute_result"
    }
   ],
   "source": [
    "games_indie_2010_decade.shape"
   ]
  },
  {
   "cell_type": "code",
   "execution_count": 25,
   "id": "dfda8214",
   "metadata": {
    "execution": {
     "iopub.execute_input": "2024-09-24T00:38:55.187756Z",
     "iopub.status.busy": "2024-09-24T00:38:55.186988Z",
     "iopub.status.idle": "2024-09-24T00:38:55.198848Z",
     "shell.execute_reply": "2024-09-24T00:38:55.197849Z"
    },
    "papermill": {
     "duration": 0.034015,
     "end_time": "2024-09-24T00:38:55.201404",
     "exception": false,
     "start_time": "2024-09-24T00:38:55.167389",
     "status": "completed"
    },
    "tags": []
   },
   "outputs": [],
   "source": [
    "q2_result = games_indie_2010_decade.sort_values(by='Average playtime forever', ascending=False).head(10)"
   ]
  },
  {
   "cell_type": "code",
   "execution_count": 26,
   "id": "512ba513",
   "metadata": {
    "execution": {
     "iopub.execute_input": "2024-09-24T00:38:55.241624Z",
     "iopub.status.busy": "2024-09-24T00:38:55.240552Z",
     "iopub.status.idle": "2024-09-24T00:38:55.253220Z",
     "shell.execute_reply": "2024-09-24T00:38:55.252084Z"
    },
    "papermill": {
     "duration": 0.035187,
     "end_time": "2024-09-24T00:38:55.255704",
     "exception": false,
     "start_time": "2024-09-24T00:38:55.220517",
     "status": "completed"
    },
    "tags": []
   },
   "outputs": [
    {
     "data": {
      "text/html": [
       "<div>\n",
       "<style scoped>\n",
       "    .dataframe tbody tr th:only-of-type {\n",
       "        vertical-align: middle;\n",
       "    }\n",
       "\n",
       "    .dataframe tbody tr th {\n",
       "        vertical-align: top;\n",
       "    }\n",
       "\n",
       "    .dataframe thead th {\n",
       "        text-align: right;\n",
       "    }\n",
       "</style>\n",
       "<table border=\"1\" class=\"dataframe\">\n",
       "  <thead>\n",
       "    <tr style=\"text-align: right;\">\n",
       "      <th></th>\n",
       "      <th>Name</th>\n",
       "      <th>Average playtime forever</th>\n",
       "    </tr>\n",
       "  </thead>\n",
       "  <tbody>\n",
       "    <tr>\n",
       "      <th>39591</th>\n",
       "      <td>Relive</td>\n",
       "      <td>68357</td>\n",
       "    </tr>\n",
       "    <tr>\n",
       "      <th>7529</th>\n",
       "      <td>拯救大魔王2 Rescue the Great Demon 2</td>\n",
       "      <td>49555</td>\n",
       "    </tr>\n",
       "    <tr>\n",
       "      <th>18525</th>\n",
       "      <td>Out of the Park Baseball 20</td>\n",
       "      <td>34798</td>\n",
       "    </tr>\n",
       "    <tr>\n",
       "      <th>21216</th>\n",
       "      <td>时之回廊/Corridor of time</td>\n",
       "      <td>33343</td>\n",
       "    </tr>\n",
       "    <tr>\n",
       "      <th>4299</th>\n",
       "      <td>Clicker Heroes 2</td>\n",
       "      <td>31708</td>\n",
       "    </tr>\n",
       "    <tr>\n",
       "      <th>78237</th>\n",
       "      <td>Time of Dragons</td>\n",
       "      <td>27080</td>\n",
       "    </tr>\n",
       "    <tr>\n",
       "      <th>53439</th>\n",
       "      <td>Project AURA</td>\n",
       "      <td>26827</td>\n",
       "    </tr>\n",
       "    <tr>\n",
       "      <th>2187</th>\n",
       "      <td>Midas Gold Plus</td>\n",
       "      <td>19196</td>\n",
       "    </tr>\n",
       "    <tr>\n",
       "      <th>4771</th>\n",
       "      <td>Beasts of Bermuda</td>\n",
       "      <td>17147</td>\n",
       "    </tr>\n",
       "    <tr>\n",
       "      <th>35001</th>\n",
       "      <td>Rust</td>\n",
       "      <td>16623</td>\n",
       "    </tr>\n",
       "  </tbody>\n",
       "</table>\n",
       "</div>"
      ],
      "text/plain": [
       "                                  Name  Average playtime forever\n",
       "39591                           Relive                     68357\n",
       "7529   拯救大魔王2 Rescue the Great Demon 2                     49555\n",
       "18525      Out of the Park Baseball 20                     34798\n",
       "21216            时之回廊/Corridor of time                     33343\n",
       "4299                  Clicker Heroes 2                     31708\n",
       "78237                  Time of Dragons                     27080\n",
       "53439                     Project AURA                     26827\n",
       "2187                   Midas Gold Plus                     19196\n",
       "4771                 Beasts of Bermuda                     17147\n",
       "35001                             Rust                     16623"
      ]
     },
     "execution_count": 26,
     "metadata": {},
     "output_type": "execute_result"
    }
   ],
   "source": [
    "q2_result[['Name', 'Average playtime forever']]"
   ]
  },
  {
   "cell_type": "markdown",
   "id": "31e2e83c",
   "metadata": {
    "papermill": {
     "duration": 0.018271,
     "end_time": "2024-09-24T00:38:55.292785",
     "exception": false,
     "start_time": "2024-09-24T00:38:55.274514",
     "status": "completed"
    },
    "tags": []
   },
   "source": [
    "## Q3: Nombre de top 5 juegos del género \"Indie\" con más reseñas positivas"
   ]
  },
  {
   "cell_type": "code",
   "execution_count": 27,
   "id": "e50177f7",
   "metadata": {
    "execution": {
     "iopub.execute_input": "2024-09-24T00:38:55.331860Z",
     "iopub.status.busy": "2024-09-24T00:38:55.331397Z",
     "iopub.status.idle": "2024-09-24T00:38:55.345385Z",
     "shell.execute_reply": "2024-09-24T00:38:55.344339Z"
    },
    "papermill": {
     "duration": 0.037186,
     "end_time": "2024-09-24T00:38:55.348617",
     "exception": false,
     "start_time": "2024-09-24T00:38:55.311431",
     "status": "completed"
    },
    "tags": []
   },
   "outputs": [
    {
     "data": {
      "text/html": [
       "<div>\n",
       "<style scoped>\n",
       "    .dataframe tbody tr th:only-of-type {\n",
       "        vertical-align: middle;\n",
       "    }\n",
       "\n",
       "    .dataframe tbody tr th {\n",
       "        vertical-align: top;\n",
       "    }\n",
       "\n",
       "    .dataframe thead th {\n",
       "        text-align: right;\n",
       "    }\n",
       "</style>\n",
       "<table border=\"1\" class=\"dataframe\">\n",
       "  <thead>\n",
       "    <tr style=\"text-align: right;\">\n",
       "      <th></th>\n",
       "      <th>AppID</th>\n",
       "      <th>Name</th>\n",
       "    </tr>\n",
       "  </thead>\n",
       "  <tbody>\n",
       "    <tr>\n",
       "      <th>0</th>\n",
       "      <td>20200</td>\n",
       "      <td>Galactic Bowling</td>\n",
       "    </tr>\n",
       "    <tr>\n",
       "      <th>1</th>\n",
       "      <td>655370</td>\n",
       "      <td>Train Bandit</td>\n",
       "    </tr>\n",
       "    <tr>\n",
       "      <th>2</th>\n",
       "      <td>1732930</td>\n",
       "      <td>Jolt Project</td>\n",
       "    </tr>\n",
       "    <tr>\n",
       "      <th>3</th>\n",
       "      <td>1355720</td>\n",
       "      <td>Henosis™</td>\n",
       "    </tr>\n",
       "    <tr>\n",
       "      <th>4</th>\n",
       "      <td>1139950</td>\n",
       "      <td>Two Weeks in Painland</td>\n",
       "    </tr>\n",
       "  </tbody>\n",
       "</table>\n",
       "</div>"
      ],
      "text/plain": [
       "     AppID                   Name\n",
       "0    20200       Galactic Bowling\n",
       "1   655370           Train Bandit\n",
       "2  1732930           Jolt Project\n",
       "3  1355720               Henosis™\n",
       "4  1139950  Two Weeks in Painland"
      ]
     },
     "execution_count": 27,
     "metadata": {},
     "output_type": "execute_result"
    }
   ],
   "source": [
    "games_indie_reduced = games_indie[[\"AppID\", \"Name\"]]\n",
    "games_indie_reduced.head()"
   ]
  },
  {
   "cell_type": "code",
   "execution_count": 28,
   "id": "5722b671",
   "metadata": {
    "execution": {
     "iopub.execute_input": "2024-09-24T00:38:55.390809Z",
     "iopub.status.busy": "2024-09-24T00:38:55.390016Z",
     "iopub.status.idle": "2024-09-24T00:38:55.430528Z",
     "shell.execute_reply": "2024-09-24T00:38:55.429465Z"
    },
    "papermill": {
     "duration": 0.064749,
     "end_time": "2024-09-24T00:38:55.433125",
     "exception": false,
     "start_time": "2024-09-24T00:38:55.368376",
     "status": "completed"
    },
    "tags": []
   },
   "outputs": [],
   "source": [
    "reviews_reduced_q3 = reviews_df_cleaned[[\"app_id\", \"review_score\"]]"
   ]
  },
  {
   "cell_type": "code",
   "execution_count": 29,
   "id": "2097a5af",
   "metadata": {
    "execution": {
     "iopub.execute_input": "2024-09-24T00:38:55.474102Z",
     "iopub.status.busy": "2024-09-24T00:38:55.473680Z",
     "iopub.status.idle": "2024-09-24T00:38:55.906419Z",
     "shell.execute_reply": "2024-09-24T00:38:55.905335Z"
    },
    "papermill": {
     "duration": 0.45693,
     "end_time": "2024-09-24T00:38:55.909189",
     "exception": false,
     "start_time": "2024-09-24T00:38:55.452259",
     "status": "completed"
    },
    "tags": []
   },
   "outputs": [],
   "source": [
    "games_indie_reviews = pd.merge(games_indie_reduced, reviews_reduced_q3, left_on='AppID', right_on='app_id', how='inner')"
   ]
  },
  {
   "cell_type": "code",
   "execution_count": 30,
   "id": "e9aa3c8a",
   "metadata": {
    "execution": {
     "iopub.execute_input": "2024-09-24T00:38:55.949666Z",
     "iopub.status.busy": "2024-09-24T00:38:55.948517Z",
     "iopub.status.idle": "2024-09-24T00:38:58.261754Z",
     "shell.execute_reply": "2024-09-24T00:38:58.260755Z"
    },
    "papermill": {
     "duration": 2.336235,
     "end_time": "2024-09-24T00:38:58.264503",
     "exception": false,
     "start_time": "2024-09-24T00:38:55.928268",
     "status": "completed"
    },
    "tags": []
   },
   "outputs": [],
   "source": [
    "def positive_score(score):\n",
    "    return 1 if score > 0 else 0\n",
    "\n",
    "games_indie_reviews['positive_score'] = games_indie_reviews['review_score'].apply(positive_score)"
   ]
  },
  {
   "cell_type": "code",
   "execution_count": 31,
   "id": "9c180060",
   "metadata": {
    "execution": {
     "iopub.execute_input": "2024-09-24T00:38:58.362003Z",
     "iopub.status.busy": "2024-09-24T00:38:58.361579Z",
     "iopub.status.idle": "2024-09-24T00:38:58.719496Z",
     "shell.execute_reply": "2024-09-24T00:38:58.718526Z"
    },
    "papermill": {
     "duration": 0.438149,
     "end_time": "2024-09-24T00:38:58.722094",
     "exception": false,
     "start_time": "2024-09-24T00:38:58.283945",
     "status": "completed"
    },
    "tags": []
   },
   "outputs": [],
   "source": [
    "q3_result = games_indie_reviews.groupby('Name')['positive_score'].sum().sort_values(ascending=False).head(5)"
   ]
  },
  {
   "cell_type": "code",
   "execution_count": 32,
   "id": "16785352",
   "metadata": {
    "execution": {
     "iopub.execute_input": "2024-09-24T00:38:58.762155Z",
     "iopub.status.busy": "2024-09-24T00:38:58.761723Z",
     "iopub.status.idle": "2024-09-24T00:38:58.770063Z",
     "shell.execute_reply": "2024-09-24T00:38:58.769114Z"
    },
    "papermill": {
     "duration": 0.030988,
     "end_time": "2024-09-24T00:38:58.772303",
     "exception": false,
     "start_time": "2024-09-24T00:38:58.741315",
     "status": "completed"
    },
    "tags": []
   },
   "outputs": [
    {
     "data": {
      "text/plain": [
       "Name\n",
       "Terraria          82227\n",
       "Rust              61032\n",
       "Rocket League®    51084\n",
       "Undertale         49812\n",
       "Starbound         36134\n",
       "Name: positive_score, dtype: int64"
      ]
     },
     "execution_count": 32,
     "metadata": {},
     "output_type": "execute_result"
    }
   ],
   "source": [
    "q3_result.head(10)"
   ]
  },
  {
   "cell_type": "markdown",
   "id": "a6df3563",
   "metadata": {
    "papermill": {
     "duration": 0.019157,
     "end_time": "2024-09-24T00:38:58.810667",
     "exception": false,
     "start_time": "2024-09-24T00:38:58.791510",
     "status": "completed"
    },
    "tags": []
   },
   "source": [
    "## Q4: Nombre de juegos del género \"action\" con más de 5.000 reseñas negativas en idioma inglés"
   ]
  },
  {
   "cell_type": "code",
   "execution_count": 48,
   "id": "4d2d8c25",
   "metadata": {
    "execution": {
     "iopub.execute_input": "2024-09-24T00:38:58.851374Z",
     "iopub.status.busy": "2024-09-24T00:38:58.850280Z",
     "iopub.status.idle": "2024-09-24T00:38:58.916626Z",
     "shell.execute_reply": "2024-09-24T00:38:58.915533Z"
    },
    "papermill": {
     "duration": 0.089429,
     "end_time": "2024-09-24T00:38:58.919230",
     "exception": false,
     "start_time": "2024-09-24T00:38:58.829801",
     "status": "completed"
    },
    "tags": []
   },
   "outputs": [
    {
     "data": {
      "text/plain": [
       "(38002, 2)"
      ]
     },
     "execution_count": 48,
     "metadata": {},
     "output_type": "execute_result"
    }
   ],
   "source": [
    "# Juegos de acción\n",
    "games_action = games_df_cleaned[games_df_cleaned[\"Genres\"].str.contains(\"action\")]\n",
    "games_action_reduced = games_action[[\"AppID\", \"Name\"]]\n",
    "games_action_reduced.shape"
   ]
  },
  {
   "cell_type": "code",
   "execution_count": 49,
   "id": "79668cbf",
   "metadata": {
    "execution": {
     "iopub.execute_input": "2024-09-24T00:38:58.960972Z",
     "iopub.status.busy": "2024-09-24T00:38:58.960021Z",
     "iopub.status.idle": "2024-09-24T00:38:59.128688Z",
     "shell.execute_reply": "2024-09-24T00:38:59.127556Z"
    },
    "papermill": {
     "duration": 0.192527,
     "end_time": "2024-09-24T00:38:59.131371",
     "exception": false,
     "start_time": "2024-09-24T00:38:58.938844",
     "status": "completed"
    },
    "tags": []
   },
   "outputs": [],
   "source": [
    "reviews_q4 = reviews_df_cleaned.copy()"
   ]
  },
  {
   "cell_type": "code",
   "execution_count": 50,
   "id": "7b658548",
   "metadata": {
    "execution": {
     "iopub.execute_input": "2024-09-24T00:38:59.173714Z",
     "iopub.status.busy": "2024-09-24T00:38:59.172317Z",
     "iopub.status.idle": "2024-09-24T00:39:04.482044Z",
     "shell.execute_reply": "2024-09-24T00:39:04.481041Z"
    },
    "papermill": {
     "duration": 5.333677,
     "end_time": "2024-09-24T00:39:04.484630",
     "exception": false,
     "start_time": "2024-09-24T00:38:59.150953",
     "status": "completed"
    },
    "tags": []
   },
   "outputs": [
    {
     "data": {
      "text/plain": [
       "(23, 2)"
      ]
     },
     "execution_count": 50,
     "metadata": {},
     "output_type": "execute_result"
    }
   ],
   "source": [
    "# Reviews con mas de 5000 comentarios negativos\n",
    "\n",
    "def negative_score(score):\n",
    "    return 1 if score < 0 else 0\n",
    "\n",
    "reviews_q4[\"negative_score\"] = reviews_q4[\"review_score\"].apply(negative_score)\n",
    "reviews_q4_negatives = reviews_q4[reviews_q4[\"negative_score\"] == 1].copy()\n",
    "reviews_count = reviews_q4_negatives.groupby('app_id').size().reset_index(name='count')\n",
    "reviews_count_more_than_5000 = reviews_count[reviews_count[\"count\"] > 5000]\n",
    "reviews_count_more_than_5000.shape"
   ]
  },
  {
   "cell_type": "code",
   "execution_count": 51,
   "id": "295b9706",
   "metadata": {
    "execution": {
     "iopub.execute_input": "2024-09-24T00:39:04.528681Z",
     "iopub.status.busy": "2024-09-24T00:39:04.527777Z",
     "iopub.status.idle": "2024-09-24T00:39:04.543164Z",
     "shell.execute_reply": "2024-09-24T00:39:04.542024Z"
    },
    "papermill": {
     "duration": 0.038876,
     "end_time": "2024-09-24T00:39:04.545661",
     "exception": false,
     "start_time": "2024-09-24T00:39:04.506785",
     "status": "completed"
    },
    "tags": []
   },
   "outputs": [
    {
     "data": {
      "text/plain": [
       "(20, 2)"
      ]
     },
     "execution_count": 51,
     "metadata": {},
     "output_type": "execute_result"
    }
   ],
   "source": [
    "# De las reviews con mas de 5000 comentarios negativos, nos quedamos con aquellas que sean sobre juegos de acción\n",
    "games_action_with_5000_negative_reviews = pd.merge(games_action_reduced, reviews_count_more_than_5000, left_on='AppID', right_on=\"app_id\", how='inner')\n",
    "games_action_with_5000_negative_reviews = games_action_with_5000_negative_reviews[[\"AppID\", \"Name\"]]\n",
    "games_action_with_5000_negative_reviews.shape"
   ]
  },
  {
   "cell_type": "code",
   "execution_count": 52,
   "id": "8292433b",
   "metadata": {
    "execution": {
     "iopub.execute_input": "2024-09-24T00:39:04.587588Z",
     "iopub.status.busy": "2024-09-24T00:39:04.587168Z",
     "iopub.status.idle": "2024-09-24T00:39:04.926770Z",
     "shell.execute_reply": "2024-09-24T00:39:04.925618Z"
    },
    "papermill": {
     "duration": 0.363289,
     "end_time": "2024-09-24T00:39:04.929271",
     "exception": false,
     "start_time": "2024-09-24T00:39:04.565982",
     "status": "completed"
    },
    "tags": []
   },
   "outputs": [
    {
     "data": {
      "text/plain": [
       "(672593, 2)"
      ]
     },
     "execution_count": 52,
     "metadata": {},
     "output_type": "execute_result"
    }
   ],
   "source": [
    "# Enriquecemos con el texto de la review\n",
    "reviews_count_more_than_5000_with_text = pd.merge(reviews_q4, games_action_with_5000_negative_reviews, left_on='app_id', right_on=\"AppID\", how='inner')\n",
    "reviews_count_more_than_5000_with_text = reviews_count_more_than_5000_with_text[[\"app_id\", \"review_text\"]]\n",
    "reviews_count_more_than_5000_with_text.shape"
   ]
  },
  {
   "cell_type": "code",
   "execution_count": 54,
   "id": "76f706a5",
   "metadata": {
    "execution": {
     "iopub.execute_input": "2024-09-24T00:39:04.970782Z",
     "iopub.status.busy": "2024-09-24T00:39:04.970351Z",
     "iopub.status.idle": "2024-09-24T01:03:17.626061Z",
     "shell.execute_reply": "2024-09-24T01:03:17.624004Z"
    },
    "papermill": {
     "duration": 1452.726373,
     "end_time": "2024-09-24T01:03:17.675392",
     "exception": false,
     "start_time": "2024-09-24T00:39:04.949019",
     "status": "completed"
    },
    "tags": []
   },
   "outputs": [
    {
     "name": "stdout",
     "output_type": "stream",
     "text": [
      "Execution time on 672593 rows: 756.79 seconds\n"
     ]
    }
   ],
   "source": [
    "# CPU INTENSIVE #############################\n",
    "def detect_language(texto):\n",
    "    language, _ = langid.classify(texto)\n",
    "    return language\n",
    "#############################################\n",
    "\n",
    "# Calculo del idioma sobre las reviews\n",
    "start_time = time.time()\n",
    "reviews_count_more_than_5000_with_text[\"review_language\"] = reviews_count_more_than_5000_with_text['review_text'].apply(detect_language)\n",
    "elapsed_time = time.time() - start_time\n",
    "print(f\"Execution time on {reviews_count_more_than_5000_with_text.shape[0]} rows: {elapsed_time:.2f} seconds\")\n",
    "\n",
    "# Con el dataset original y más de 5000 reviews tarda 722.20 segundos\n",
    "# Con el dataset reducido y más de 250 reviews tarda x segundos"
   ]
  },
  {
   "cell_type": "code",
   "execution_count": 55,
   "id": "4b18d89a",
   "metadata": {
    "execution": {
     "iopub.execute_input": "2024-09-24T01:03:17.747931Z",
     "iopub.status.busy": "2024-09-24T01:03:17.747133Z",
     "iopub.status.idle": "2024-09-24T01:03:17.753456Z",
     "shell.execute_reply": "2024-09-24T01:03:17.752642Z"
    },
    "papermill": {
     "duration": 0.038672,
     "end_time": "2024-09-24T01:03:17.755780",
     "exception": false,
     "start_time": "2024-09-24T01:03:17.717108",
     "status": "completed"
    },
    "tags": []
   },
   "outputs": [
    {
     "data": {
      "text/plain": [
       "(672593, 3)"
      ]
     },
     "execution_count": 55,
     "metadata": {},
     "output_type": "execute_result"
    }
   ],
   "source": [
    "reviews_count_more_than_5000_with_text.shape"
   ]
  },
  {
   "cell_type": "code",
   "execution_count": 56,
   "id": "24467bfc",
   "metadata": {
    "execution": {
     "iopub.execute_input": "2024-09-24T01:03:17.799255Z",
     "iopub.status.busy": "2024-09-24T01:03:17.798267Z",
     "iopub.status.idle": "2024-09-24T01:03:17.972145Z",
     "shell.execute_reply": "2024-09-24T01:03:17.970927Z"
    },
    "papermill": {
     "duration": 0.198695,
     "end_time": "2024-09-24T01:03:17.975122",
     "exception": false,
     "start_time": "2024-09-24T01:03:17.776427",
     "status": "completed"
    },
    "tags": []
   },
   "outputs": [
    {
     "data": {
      "text/plain": [
       "(658057, 3)"
      ]
     },
     "execution_count": 56,
     "metadata": {},
     "output_type": "execute_result"
    }
   ],
   "source": [
    "# Nos quedamos con aquellas reviews que estan en idioma inglés\n",
    "reviews_count_more_than_5000_with_text_english = reviews_count_more_than_5000_with_text[reviews_count_more_than_5000_with_text[\"review_language\"] == \"en\"]\n",
    "reviews_count_more_than_5000_with_text_english.shape"
   ]
  },
  {
   "cell_type": "code",
   "execution_count": 57,
   "id": "ca221cd4",
   "metadata": {
    "execution": {
     "iopub.execute_input": "2024-09-24T01:03:18.018294Z",
     "iopub.status.busy": "2024-09-24T01:03:18.017832Z",
     "iopub.status.idle": "2024-09-24T01:03:18.043902Z",
     "shell.execute_reply": "2024-09-24T01:03:18.042786Z"
    },
    "papermill": {
     "duration": 0.050604,
     "end_time": "2024-09-24T01:03:18.046424",
     "exception": false,
     "start_time": "2024-09-24T01:03:17.995820",
     "status": "completed"
    },
    "tags": []
   },
   "outputs": [
    {
     "data": {
      "text/html": [
       "<div>\n",
       "<style scoped>\n",
       "    .dataframe tbody tr th:only-of-type {\n",
       "        vertical-align: middle;\n",
       "    }\n",
       "\n",
       "    .dataframe tbody tr th {\n",
       "        vertical-align: top;\n",
       "    }\n",
       "\n",
       "    .dataframe thead th {\n",
       "        text-align: right;\n",
       "    }\n",
       "</style>\n",
       "<table border=\"1\" class=\"dataframe\">\n",
       "  <thead>\n",
       "    <tr style=\"text-align: right;\">\n",
       "      <th></th>\n",
       "      <th>app_id</th>\n",
       "      <th>count</th>\n",
       "    </tr>\n",
       "  </thead>\n",
       "  <tbody>\n",
       "    <tr>\n",
       "      <th>0</th>\n",
       "      <td>570</td>\n",
       "      <td>68946</td>\n",
       "    </tr>\n",
       "    <tr>\n",
       "      <th>1</th>\n",
       "      <td>12210</td>\n",
       "      <td>13766</td>\n",
       "    </tr>\n",
       "    <tr>\n",
       "      <th>2</th>\n",
       "      <td>113400</td>\n",
       "      <td>12000</td>\n",
       "    </tr>\n",
       "    <tr>\n",
       "      <th>3</th>\n",
       "      <td>208650</td>\n",
       "      <td>16660</td>\n",
       "    </tr>\n",
       "    <tr>\n",
       "      <th>4</th>\n",
       "      <td>211820</td>\n",
       "      <td>40996</td>\n",
       "    </tr>\n",
       "    <tr>\n",
       "      <th>5</th>\n",
       "      <td>218620</td>\n",
       "      <td>85382</td>\n",
       "    </tr>\n",
       "    <tr>\n",
       "      <th>6</th>\n",
       "      <td>221100</td>\n",
       "      <td>88850</td>\n",
       "    </tr>\n",
       "    <tr>\n",
       "      <th>7</th>\n",
       "      <td>227940</td>\n",
       "      <td>31178</td>\n",
       "    </tr>\n",
       "    <tr>\n",
       "      <th>8</th>\n",
       "      <td>247730</td>\n",
       "      <td>9355</td>\n",
       "    </tr>\n",
       "    <tr>\n",
       "      <th>9</th>\n",
       "      <td>252490</td>\n",
       "      <td>77037</td>\n",
       "    </tr>\n",
       "    <tr>\n",
       "      <th>10</th>\n",
       "      <td>253710</td>\n",
       "      <td>9019</td>\n",
       "    </tr>\n",
       "    <tr>\n",
       "      <th>11</th>\n",
       "      <td>271590</td>\n",
       "      <td>40676</td>\n",
       "    </tr>\n",
       "    <tr>\n",
       "      <th>12</th>\n",
       "      <td>273350</td>\n",
       "      <td>15445</td>\n",
       "    </tr>\n",
       "    <tr>\n",
       "      <th>13</th>\n",
       "      <td>275850</td>\n",
       "      <td>24326</td>\n",
       "    </tr>\n",
       "    <tr>\n",
       "      <th>14</th>\n",
       "      <td>301520</td>\n",
       "      <td>41596</td>\n",
       "    </tr>\n",
       "    <tr>\n",
       "      <th>15</th>\n",
       "      <td>311210</td>\n",
       "      <td>23442</td>\n",
       "    </tr>\n",
       "    <tr>\n",
       "      <th>16</th>\n",
       "      <td>346110</td>\n",
       "      <td>12470</td>\n",
       "    </tr>\n",
       "    <tr>\n",
       "      <th>17</th>\n",
       "      <td>365590</td>\n",
       "      <td>13887</td>\n",
       "    </tr>\n",
       "    <tr>\n",
       "      <th>18</th>\n",
       "      <td>381210</td>\n",
       "      <td>18061</td>\n",
       "    </tr>\n",
       "    <tr>\n",
       "      <th>19</th>\n",
       "      <td>433850</td>\n",
       "      <td>14965</td>\n",
       "    </tr>\n",
       "  </tbody>\n",
       "</table>\n",
       "</div>"
      ],
      "text/plain": [
       "    app_id  count\n",
       "0      570  68946\n",
       "1    12210  13766\n",
       "2   113400  12000\n",
       "3   208650  16660\n",
       "4   211820  40996\n",
       "5   218620  85382\n",
       "6   221100  88850\n",
       "7   227940  31178\n",
       "8   247730   9355\n",
       "9   252490  77037\n",
       "10  253710   9019\n",
       "11  271590  40676\n",
       "12  273350  15445\n",
       "13  275850  24326\n",
       "14  301520  41596\n",
       "15  311210  23442\n",
       "16  346110  12470\n",
       "17  365590  13887\n",
       "18  381210  18061\n",
       "19  433850  14965"
      ]
     },
     "execution_count": 57,
     "metadata": {},
     "output_type": "execute_result"
    }
   ],
   "source": [
    "# Nos quedamos con aquellos juegos que tengan mas de 5000 reseñas negativas en inglés\n",
    "q4_results_app_ids = reviews_count_more_than_5000_with_text_english.groupby('app_id').size().reset_index(name='count')\n",
    "q4_results_app_ids = q4_results_app_ids[q4_results_app_ids[\"count\"] > 5000]\n",
    "q4_results_app_ids.head(25)"
   ]
  },
  {
   "cell_type": "code",
   "execution_count": 58,
   "id": "b2535595",
   "metadata": {
    "execution": {
     "iopub.execute_input": "2024-09-24T01:03:18.090640Z",
     "iopub.status.busy": "2024-09-24T01:03:18.090153Z",
     "iopub.status.idle": "2024-09-24T01:03:18.103135Z",
     "shell.execute_reply": "2024-09-24T01:03:18.102048Z"
    },
    "papermill": {
     "duration": 0.038424,
     "end_time": "2024-09-24T01:03:18.106024",
     "exception": false,
     "start_time": "2024-09-24T01:03:18.067600",
     "status": "completed"
    },
    "tags": []
   },
   "outputs": [
    {
     "data": {
      "text/plain": [
       "0                                        Dota 2\n",
       "1     Grand Theft Auto IV: The Complete Edition\n",
       "2                                  APB Reloaded\n",
       "3                        Batman™: Arkham Knight\n",
       "4                                     Starbound\n",
       "5                                      PAYDAY 2\n",
       "6                                          DayZ\n",
       "7                             Heroes & Generals\n",
       "8                           Nether: Resurrected\n",
       "9                                          Rust\n",
       "10                            theHunter Classic\n",
       "11                           Grand Theft Auto V\n",
       "12                               Evolve Stage 2\n",
       "13                                 No Man's Sky\n",
       "14                                    Robocraft\n",
       "15                 Call of Duty®: Black Ops III\n",
       "16                        ARK: Survival Evolved\n",
       "17                   Tom Clancy’s The Division™\n",
       "18                             Dead by Daylight\n",
       "19                             Z1 Battle Royale\n",
       "Name: Name, dtype: object"
      ]
     },
     "execution_count": 58,
     "metadata": {},
     "output_type": "execute_result"
    }
   ],
   "source": [
    "# Enriquecemos con el nombre de esos juegos\n",
    "q4_results_games_names = pd.merge(q4_results_app_ids, games_action_with_5000_negative_reviews, left_on='app_id', right_on=\"AppID\", how='inner')[\"Name\"]\n",
    "q4_results_games_names.head(25)"
   ]
  },
  {
   "cell_type": "markdown",
   "id": "cd13ce2a",
   "metadata": {
    "papermill": {
     "duration": 0.020989,
     "end_time": "2024-09-24T01:03:18.148410",
     "exception": false,
     "start_time": "2024-09-24T01:03:18.127421",
     "status": "completed"
    },
    "tags": []
   },
   "source": [
    "## Q5: Nombre de juegos del género \"action\" dentro del percentil 90 en cantidad de reseñas negativas"
   ]
  },
  {
   "cell_type": "code",
   "execution_count": 38,
   "id": "8f881457",
   "metadata": {
    "execution": {
     "iopub.execute_input": "2024-09-24T01:03:18.193639Z",
     "iopub.status.busy": "2024-09-24T01:03:18.192512Z",
     "iopub.status.idle": "2024-09-24T01:03:18.204621Z",
     "shell.execute_reply": "2024-09-24T01:03:18.203167Z"
    },
    "papermill": {
     "duration": 0.037433,
     "end_time": "2024-09-24T01:03:18.207233",
     "exception": false,
     "start_time": "2024-09-24T01:03:18.169800",
     "status": "completed"
    },
    "tags": []
   },
   "outputs": [
    {
     "data": {
      "text/html": [
       "<div>\n",
       "<style scoped>\n",
       "    .dataframe tbody tr th:only-of-type {\n",
       "        vertical-align: middle;\n",
       "    }\n",
       "\n",
       "    .dataframe tbody tr th {\n",
       "        vertical-align: top;\n",
       "    }\n",
       "\n",
       "    .dataframe thead th {\n",
       "        text-align: right;\n",
       "    }\n",
       "</style>\n",
       "<table border=\"1\" class=\"dataframe\">\n",
       "  <thead>\n",
       "    <tr style=\"text-align: right;\">\n",
       "      <th></th>\n",
       "      <th>AppID</th>\n",
       "      <th>Name</th>\n",
       "    </tr>\n",
       "  </thead>\n",
       "  <tbody>\n",
       "    <tr>\n",
       "      <th>1</th>\n",
       "      <td>655370</td>\n",
       "      <td>Train Bandit</td>\n",
       "    </tr>\n",
       "    <tr>\n",
       "      <th>2</th>\n",
       "      <td>1732930</td>\n",
       "      <td>Jolt Project</td>\n",
       "    </tr>\n",
       "    <tr>\n",
       "      <th>9</th>\n",
       "      <td>320150</td>\n",
       "      <td>Deadlings: Rotten Edition</td>\n",
       "    </tr>\n",
       "    <tr>\n",
       "      <th>14</th>\n",
       "      <td>1454010</td>\n",
       "      <td>Diary of Lucie</td>\n",
       "    </tr>\n",
       "    <tr>\n",
       "      <th>15</th>\n",
       "      <td>22670</td>\n",
       "      <td>Alien Breed 3: Descent</td>\n",
       "    </tr>\n",
       "  </tbody>\n",
       "</table>\n",
       "</div>"
      ],
      "text/plain": [
       "      AppID                       Name\n",
       "1    655370               Train Bandit\n",
       "2   1732930               Jolt Project\n",
       "9    320150  Deadlings: Rotten Edition\n",
       "14  1454010             Diary of Lucie\n",
       "15    22670     Alien Breed 3: Descent"
      ]
     },
     "execution_count": 38,
     "metadata": {},
     "output_type": "execute_result"
    }
   ],
   "source": [
    "games_action_reduced.head()"
   ]
  },
  {
   "cell_type": "code",
   "execution_count": 39,
   "id": "15d86546",
   "metadata": {
    "execution": {
     "iopub.execute_input": "2024-09-24T01:03:18.252378Z",
     "iopub.status.busy": "2024-09-24T01:03:18.251955Z",
     "iopub.status.idle": "2024-09-24T01:03:18.259638Z",
     "shell.execute_reply": "2024-09-24T01:03:18.258512Z"
    },
    "papermill": {
     "duration": 0.032911,
     "end_time": "2024-09-24T01:03:18.261907",
     "exception": false,
     "start_time": "2024-09-24T01:03:18.228996",
     "status": "completed"
    },
    "tags": []
   },
   "outputs": [
    {
     "data": {
      "text/plain": [
       "(38002, 2)"
      ]
     },
     "execution_count": 39,
     "metadata": {},
     "output_type": "execute_result"
    }
   ],
   "source": [
    "games_action_reduced.shape"
   ]
  },
  {
   "cell_type": "code",
   "execution_count": 40,
   "id": "2e76ff2b",
   "metadata": {
    "execution": {
     "iopub.execute_input": "2024-09-24T01:03:18.309034Z",
     "iopub.status.busy": "2024-09-24T01:03:18.308446Z",
     "iopub.status.idle": "2024-09-24T01:03:23.764055Z",
     "shell.execute_reply": "2024-09-24T01:03:23.762909Z"
    },
    "papermill": {
     "duration": 5.483091,
     "end_time": "2024-09-24T01:03:23.766726",
     "exception": false,
     "start_time": "2024-09-24T01:03:18.283635",
     "status": "completed"
    },
    "tags": []
   },
   "outputs": [
    {
     "data": {
      "text/plain": [
       "(1155685, 3)"
      ]
     },
     "execution_count": 40,
     "metadata": {},
     "output_type": "execute_result"
    }
   ],
   "source": [
    "reviews_q5 = reviews_df_cleaned.copy()\n",
    "reviews_q5 = reviews_q5[[\"app_id\", \"review_score\"]]\n",
    "reviews_q5[\"negative_score\"] = reviews_q5[\"review_score\"].apply(negative_score)\n",
    "reviews_q5_negative_score = reviews_q5[reviews_q5[\"negative_score\"] == 1]\n",
    "reviews_q5_negative_score.shape"
   ]
  },
  {
   "cell_type": "code",
   "execution_count": 41,
   "id": "509e4465",
   "metadata": {
    "execution": {
     "iopub.execute_input": "2024-09-24T01:03:23.812842Z",
     "iopub.status.busy": "2024-09-24T01:03:23.812391Z",
     "iopub.status.idle": "2024-09-24T01:03:23.952243Z",
     "shell.execute_reply": "2024-09-24T01:03:23.951114Z"
    },
    "papermill": {
     "duration": 0.166486,
     "end_time": "2024-09-24T01:03:23.955334",
     "exception": false,
     "start_time": "2024-09-24T01:03:23.788848",
     "status": "completed"
    },
    "tags": []
   },
   "outputs": [
    {
     "data": {
      "text/plain": [
       "(717190, 5)"
      ]
     },
     "execution_count": 41,
     "metadata": {},
     "output_type": "execute_result"
    }
   ],
   "source": [
    "reviews_q5_negative_score_action = pd.merge(reviews_q5_negative_score, games_action_reduced, left_on='app_id', right_on=\"AppID\", how='inner')\n",
    "reviews_q5_negative_score_action.shape"
   ]
  },
  {
   "cell_type": "code",
   "execution_count": 42,
   "id": "1f09d87c",
   "metadata": {
    "execution": {
     "iopub.execute_input": "2024-09-24T01:03:24.005408Z",
     "iopub.status.busy": "2024-09-24T01:03:24.004978Z",
     "iopub.status.idle": "2024-09-24T01:03:24.028734Z",
     "shell.execute_reply": "2024-09-24T01:03:24.027509Z"
    },
    "papermill": {
     "duration": 0.051133,
     "end_time": "2024-09-24T01:03:24.031641",
     "exception": false,
     "start_time": "2024-09-24T01:03:23.980508",
     "status": "completed"
    },
    "tags": []
   },
   "outputs": [
    {
     "data": {
      "text/plain": [
       "(3912, 2)"
      ]
     },
     "execution_count": 42,
     "metadata": {},
     "output_type": "execute_result"
    }
   ],
   "source": [
    "reviews_q5_negative_score_action_by_app_id = reviews_q5_negative_score_action.groupby('app_id').size().reset_index(name='count')\n",
    "reviews_q5_negative_score_action_by_app_id.shape"
   ]
  },
  {
   "cell_type": "code",
   "execution_count": 43,
   "id": "c4b552bf",
   "metadata": {
    "execution": {
     "iopub.execute_input": "2024-09-24T01:03:24.079743Z",
     "iopub.status.busy": "2024-09-24T01:03:24.078733Z",
     "iopub.status.idle": "2024-09-24T01:03:24.090079Z",
     "shell.execute_reply": "2024-09-24T01:03:24.088949Z"
    },
    "papermill": {
     "duration": 0.038314,
     "end_time": "2024-09-24T01:03:24.092603",
     "exception": false,
     "start_time": "2024-09-24T01:03:24.054289",
     "status": "completed"
    },
    "tags": []
   },
   "outputs": [
    {
     "data": {
      "text/plain": [
       "np.float64(306.60000000000036)"
      ]
     },
     "execution_count": 43,
     "metadata": {},
     "output_type": "execute_result"
    }
   ],
   "source": [
    "percentil_90 = reviews_q5_negative_score_action_by_app_id['count'].quantile(0.90)\n",
    "percentil_90"
   ]
  },
  {
   "cell_type": "code",
   "execution_count": 44,
   "id": "1bd52225",
   "metadata": {
    "execution": {
     "iopub.execute_input": "2024-09-24T01:03:24.140986Z",
     "iopub.status.busy": "2024-09-24T01:03:24.139830Z",
     "iopub.status.idle": "2024-09-24T01:03:24.151274Z",
     "shell.execute_reply": "2024-09-24T01:03:24.148965Z"
    },
    "papermill": {
     "duration": 0.039458,
     "end_time": "2024-09-24T01:03:24.155036",
     "exception": false,
     "start_time": "2024-09-24T01:03:24.115578",
     "status": "completed"
    },
    "tags": []
   },
   "outputs": [
    {
     "data": {
      "text/plain": [
       "(392, 2)"
      ]
     },
     "execution_count": 44,
     "metadata": {},
     "output_type": "execute_result"
    }
   ],
   "source": [
    "q5_result = reviews_q5_negative_score_action_by_app_id[reviews_q5_negative_score_action_by_app_id['count'] >= percentil_90]\n",
    "q5_result.shape"
   ]
  },
  {
   "cell_type": "code",
   "execution_count": 45,
   "id": "4da43e31",
   "metadata": {
    "execution": {
     "iopub.execute_input": "2024-09-24T01:03:24.216408Z",
     "iopub.status.busy": "2024-09-24T01:03:24.215884Z",
     "iopub.status.idle": "2024-09-24T01:03:24.244643Z",
     "shell.execute_reply": "2024-09-24T01:03:24.242807Z"
    },
    "papermill": {
     "duration": 0.063501,
     "end_time": "2024-09-24T01:03:24.247728",
     "exception": false,
     "start_time": "2024-09-24T01:03:24.184227",
     "status": "completed"
    },
    "tags": []
   },
   "outputs": [
    {
     "data": {
      "text/html": [
       "<div>\n",
       "<style scoped>\n",
       "    .dataframe tbody tr th:only-of-type {\n",
       "        vertical-align: middle;\n",
       "    }\n",
       "\n",
       "    .dataframe tbody tr th {\n",
       "        vertical-align: top;\n",
       "    }\n",
       "\n",
       "    .dataframe thead th {\n",
       "        text-align: right;\n",
       "    }\n",
       "</style>\n",
       "<table border=\"1\" class=\"dataframe\">\n",
       "  <thead>\n",
       "    <tr style=\"text-align: right;\">\n",
       "      <th></th>\n",
       "      <th>app_id</th>\n",
       "      <th>Name</th>\n",
       "    </tr>\n",
       "  </thead>\n",
       "  <tbody>\n",
       "    <tr>\n",
       "      <th>0</th>\n",
       "      <td>10</td>\n",
       "      <td>Counter-Strike</td>\n",
       "    </tr>\n",
       "    <tr>\n",
       "      <th>1</th>\n",
       "      <td>240</td>\n",
       "      <td>Counter-Strike: Source</td>\n",
       "    </tr>\n",
       "    <tr>\n",
       "      <th>2</th>\n",
       "      <td>280</td>\n",
       "      <td>Half-Life: Source</td>\n",
       "    </tr>\n",
       "    <tr>\n",
       "      <th>3</th>\n",
       "      <td>340</td>\n",
       "      <td>Half-Life 2: Lost Coast</td>\n",
       "    </tr>\n",
       "    <tr>\n",
       "      <th>4</th>\n",
       "      <td>440</td>\n",
       "      <td>Team Fortress 2</td>\n",
       "    </tr>\n",
       "    <tr>\n",
       "      <th>5</th>\n",
       "      <td>550</td>\n",
       "      <td>Left 4 Dead 2</td>\n",
       "    </tr>\n",
       "    <tr>\n",
       "      <th>6</th>\n",
       "      <td>570</td>\n",
       "      <td>Dota 2</td>\n",
       "    </tr>\n",
       "    <tr>\n",
       "      <th>7</th>\n",
       "      <td>620</td>\n",
       "      <td>Portal 2</td>\n",
       "    </tr>\n",
       "    <tr>\n",
       "      <th>8</th>\n",
       "      <td>1250</td>\n",
       "      <td>Killing Floor</td>\n",
       "    </tr>\n",
       "    <tr>\n",
       "      <th>9</th>\n",
       "      <td>2400</td>\n",
       "      <td>The Ship: Murder Party</td>\n",
       "    </tr>\n",
       "  </tbody>\n",
       "</table>\n",
       "</div>"
      ],
      "text/plain": [
       "   app_id                     Name\n",
       "0      10           Counter-Strike\n",
       "1     240   Counter-Strike: Source\n",
       "2     280        Half-Life: Source\n",
       "3     340  Half-Life 2: Lost Coast\n",
       "4     440          Team Fortress 2\n",
       "5     550            Left 4 Dead 2\n",
       "6     570                   Dota 2\n",
       "7     620                 Portal 2\n",
       "8    1250            Killing Floor\n",
       "9    2400   The Ship: Murder Party"
      ]
     },
     "execution_count": 45,
     "metadata": {},
     "output_type": "execute_result"
    }
   ],
   "source": [
    "q5_result_with_game_names = pd.merge(q5_result, games_action_reduced, left_on='app_id', right_on=\"AppID\", how='inner')\n",
    "q5_result_with_game_names[[\"app_id\", \"Name\"]].head(10)"
   ]
  }
 ],
 "metadata": {
  "kaggle": {
   "accelerator": "none",
   "dataSources": [
    {
     "datasetId": 1754525,
     "sourceId": 2865831,
     "sourceType": "datasetVersion"
    },
    {
     "datasetId": 2109585,
     "sourceId": 9310676,
     "sourceType": "datasetVersion"
    }
   ],
   "dockerImageVersionId": 30761,
   "isGpuEnabled": false,
   "isInternetEnabled": false,
   "language": "python",
   "sourceType": "notebook"
  },
  "kernelspec": {
   "display_name": "Python 3",
   "language": "python",
   "name": "python3"
  },
  "language_info": {
   "codemirror_mode": {
    "name": "ipython",
    "version": 3
   },
   "file_extension": ".py",
   "mimetype": "text/x-python",
   "name": "python",
   "nbconvert_exporter": "python",
   "pygments_lexer": "ipython3",
   "version": "3.12.5"
  },
  "papermill": {
   "default_parameters": {},
   "duration": 1589.208417,
   "end_time": "2024-09-24T01:03:26.099117",
   "environment_variables": {},
   "exception": null,
   "input_path": "__notebook__.ipynb",
   "output_path": "__notebook__.ipynb",
   "parameters": {},
   "start_time": "2024-09-24T00:36:56.890700",
   "version": "2.6.0"
  }
 },
 "nbformat": 4,
 "nbformat_minor": 5
}
