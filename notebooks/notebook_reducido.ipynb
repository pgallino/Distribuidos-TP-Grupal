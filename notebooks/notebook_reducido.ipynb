{
 "cells": [
  {
   "cell_type": "markdown",
   "id": "489d2728",
   "metadata": {
    "papermill": {
     "duration": 0.017586,
     "end_time": "2024-09-24T00:36:59.936036",
     "exception": false,
     "start_time": "2024-09-24T00:36:59.918450",
     "status": "completed"
    },
    "tags": []
   },
   "source": [
    "# Data load, clean and join"
   ]
  },
  {
   "cell_type": "code",
   "execution_count": 54,
   "id": "5c8febc5",
   "metadata": {
    "execution": {
     "iopub.execute_input": "2024-09-24T00:36:59.970384Z",
     "iopub.status.busy": "2024-09-24T00:36:59.969929Z",
     "iopub.status.idle": "2024-09-24T00:37:36.550972Z",
     "shell.execute_reply": "2024-09-24T00:37:36.549641Z"
    },
    "papermill": {
     "duration": 36.603004,
     "end_time": "2024-09-24T00:37:36.555107",
     "exception": false,
     "start_time": "2024-09-24T00:36:59.952103",
     "status": "completed"
    },
    "tags": []
   },
   "outputs": [
    {
     "name": "stdout",
     "output_type": "stream",
     "text": [
      "Requirement already satisfied: langid in c:\\users\\alejo\\appdata\\local\\programs\\python\\python312\\lib\\site-packages (1.1.6)\n",
      "Requirement already satisfied: numpy in c:\\users\\alejo\\appdata\\local\\programs\\python\\python312\\lib\\site-packages (from langid) (2.1.1)\n"
     ]
    }
   ],
   "source": [
    "!pip install langid"
   ]
  },
  {
   "cell_type": "code",
   "execution_count": 55,
   "id": "dc4edc60",
   "metadata": {
    "execution": {
     "iopub.execute_input": "2024-09-24T00:37:36.599189Z",
     "iopub.status.busy": "2024-09-24T00:37:36.598782Z",
     "iopub.status.idle": "2024-09-24T00:37:37.570740Z",
     "shell.execute_reply": "2024-09-24T00:37:37.569683Z"
    },
    "papermill": {
     "duration": 0.996356,
     "end_time": "2024-09-24T00:37:37.573577",
     "exception": false,
     "start_time": "2024-09-24T00:37:36.577221",
     "status": "completed"
    },
    "tags": []
   },
   "outputs": [],
   "source": [
    "import numpy as np # linear algebra\n",
    "import pandas as pd # data processing, CSV file I/O (e.g. pd.read_csv)\n",
    "import os\n",
    "import langid\n",
    "import time\n",
    "\n",
    "pd.set_option('display.max_columns', None)\n",
    "pd.set_option('display.max_colwidth', 100)"
   ]
  },
  {
   "cell_type": "code",
   "execution_count": 56,
   "id": "25c5d5e3",
   "metadata": {
    "execution": {
     "iopub.execute_input": "2024-09-24T00:37:37.609602Z",
     "iopub.status.busy": "2024-09-24T00:37:37.608500Z",
     "iopub.status.idle": "2024-09-24T00:38:51.183075Z",
     "shell.execute_reply": "2024-09-24T00:38:51.181948Z"
    },
    "papermill": {
     "duration": 73.595979,
     "end_time": "2024-09-24T00:38:51.185991",
     "exception": false,
     "start_time": "2024-09-24T00:37:37.590012",
     "status": "completed"
    },
    "tags": []
   },
   "outputs": [],
   "source": [
    "games_df = pd.read_csv('games-reducido.csv', header=None, skiprows=1)\n",
    "reviews_df = pd.read_csv('reviews-reducido.csv')"
   ]
  },
  {
   "cell_type": "code",
   "execution_count": 57,
   "id": "9797fc59",
   "metadata": {
    "execution": {
     "iopub.execute_input": "2024-09-24T00:38:51.220117Z",
     "iopub.status.busy": "2024-09-24T00:38:51.219661Z",
     "iopub.status.idle": "2024-09-24T00:38:51.227397Z",
     "shell.execute_reply": "2024-09-24T00:38:51.226344Z"
    },
    "papermill": {
     "duration": 0.027498,
     "end_time": "2024-09-24T00:38:51.229850",
     "exception": false,
     "start_time": "2024-09-24T00:38:51.202352",
     "status": "completed"
    },
    "tags": []
   },
   "outputs": [],
   "source": [
    "# Agrego columna \"Unknown\" ya que no viene nomenclada y genera un desfasaje en los indices de columnas\n",
    "games_df_column_names = ['AppID', 'Name', 'Release date', 'Estimated owners', 'Peak CCU', \n",
    "                    'Required age', 'Price', 'Unknown', 'DiscountDLC count', 'About the game', \n",
    "                    'Supported languages', 'Full audio languages', 'Reviews', 'Header image', \n",
    "                    'Website', 'Support url', 'Support email', 'Windows', 'Mac', \n",
    "                    'Linux', 'Metacritic score', 'Metacritic url', 'User score', \n",
    "                    'Positive', 'Negative', 'Score rank', 'Achievements', \n",
    "                    'Recommendations', 'Notes', 'Average playtime forever', \n",
    "                    'Average playtime two weeks', 'Median playtime forever', \n",
    "                    'Median playtime two weeks', 'Developers', 'Publishers', \n",
    "                    'Categories', 'Genres', 'Tags', 'Screenshots', 'Movies']\n",
    "games_df.columns = games_df_column_names"
   ]
  },
  {
   "cell_type": "code",
   "execution_count": 58,
   "id": "cdf526a8",
   "metadata": {
    "execution": {
     "iopub.execute_input": "2024-09-24T00:38:51.263786Z",
     "iopub.status.busy": "2024-09-24T00:38:51.263353Z",
     "iopub.status.idle": "2024-09-24T00:38:51.271869Z",
     "shell.execute_reply": "2024-09-24T00:38:51.270833Z"
    },
    "papermill": {
     "duration": 0.028146,
     "end_time": "2024-09-24T00:38:51.274260",
     "exception": false,
     "start_time": "2024-09-24T00:38:51.246114",
     "status": "completed"
    },
    "tags": []
   },
   "outputs": [
    {
     "data": {
      "text/plain": [
       "(4870, 40)"
      ]
     },
     "execution_count": 58,
     "metadata": {},
     "output_type": "execute_result"
    }
   ],
   "source": [
    "games_df.shape"
   ]
  },
  {
   "cell_type": "code",
   "execution_count": 59,
   "id": "dec49364",
   "metadata": {
    "execution": {
     "iopub.execute_input": "2024-09-24T00:38:51.308412Z",
     "iopub.status.busy": "2024-09-24T00:38:51.307984Z",
     "iopub.status.idle": "2024-09-24T00:38:51.314913Z",
     "shell.execute_reply": "2024-09-24T00:38:51.313880Z"
    },
    "papermill": {
     "duration": 0.02676,
     "end_time": "2024-09-24T00:38:51.317317",
     "exception": false,
     "start_time": "2024-09-24T00:38:51.290557",
     "status": "completed"
    },
    "tags": []
   },
   "outputs": [
    {
     "data": {
      "text/plain": [
       "(320855, 5)"
      ]
     },
     "execution_count": 59,
     "metadata": {},
     "output_type": "execute_result"
    }
   ],
   "source": [
    "reviews_df.shape"
   ]
  },
  {
   "cell_type": "code",
   "execution_count": 60,
   "id": "7087db37",
   "metadata": {
    "execution": {
     "iopub.execute_input": "2024-09-24T00:38:51.353749Z",
     "iopub.status.busy": "2024-09-24T00:38:51.352942Z",
     "iopub.status.idle": "2024-09-24T00:38:51.368827Z",
     "shell.execute_reply": "2024-09-24T00:38:51.367763Z"
    },
    "papermill": {
     "duration": 0.036897,
     "end_time": "2024-09-24T00:38:51.371262",
     "exception": false,
     "start_time": "2024-09-24T00:38:51.334365",
     "status": "completed"
    },
    "tags": []
   },
   "outputs": [
    {
     "data": {
      "text/plain": [
       "AppID                           int64\n",
       "Name                           object\n",
       "Release date                   object\n",
       "Estimated owners               object\n",
       "Peak CCU                        int64\n",
       "Required age                    int64\n",
       "Price                         float64\n",
       "Unknown                         int64\n",
       "DiscountDLC count               int64\n",
       "About the game                 object\n",
       "Supported languages            object\n",
       "Full audio languages           object\n",
       "Reviews                        object\n",
       "Header image                   object\n",
       "Website                        object\n",
       "Support url                    object\n",
       "Support email                  object\n",
       "Windows                          bool\n",
       "Mac                              bool\n",
       "Linux                            bool\n",
       "Metacritic score                int64\n",
       "Metacritic url                 object\n",
       "User score                      int64\n",
       "Positive                        int64\n",
       "Negative                        int64\n",
       "Score rank                    float64\n",
       "Achievements                    int64\n",
       "Recommendations                 int64\n",
       "Notes                          object\n",
       "Average playtime forever        int64\n",
       "Average playtime two weeks      int64\n",
       "Median playtime forever         int64\n",
       "Median playtime two weeks       int64\n",
       "Developers                     object\n",
       "Publishers                     object\n",
       "Categories                     object\n",
       "Genres                         object\n",
       "Tags                           object\n",
       "Screenshots                    object\n",
       "Movies                         object\n",
       "dtype: object"
      ]
     },
     "execution_count": 60,
     "metadata": {},
     "output_type": "execute_result"
    }
   ],
   "source": [
    "games_df.dtypes"
   ]
  },
  {
   "cell_type": "code",
   "execution_count": 61,
   "id": "dfaec3d2",
   "metadata": {
    "execution": {
     "iopub.execute_input": "2024-09-24T00:38:51.406943Z",
     "iopub.status.busy": "2024-09-24T00:38:51.406100Z",
     "iopub.status.idle": "2024-09-24T00:38:51.415582Z",
     "shell.execute_reply": "2024-09-24T00:38:51.414368Z"
    },
    "papermill": {
     "duration": 0.029836,
     "end_time": "2024-09-24T00:38:51.417927",
     "exception": false,
     "start_time": "2024-09-24T00:38:51.388091",
     "status": "completed"
    },
    "tags": []
   },
   "outputs": [
    {
     "data": {
      "text/plain": [
       "app_id           int64\n",
       "app_name        object\n",
       "review_text     object\n",
       "review_score     int64\n",
       "review_votes     int64\n",
       "dtype: object"
      ]
     },
     "execution_count": 61,
     "metadata": {},
     "output_type": "execute_result"
    }
   ],
   "source": [
    "reviews_df.dtypes"
   ]
  },
  {
   "cell_type": "code",
   "execution_count": 62,
   "id": "e38a3fa5",
   "metadata": {
    "execution": {
     "iopub.execute_input": "2024-09-24T00:38:51.454059Z",
     "iopub.status.busy": "2024-09-24T00:38:51.453618Z",
     "iopub.status.idle": "2024-09-24T00:38:51.492806Z",
     "shell.execute_reply": "2024-09-24T00:38:51.491700Z"
    },
    "papermill": {
     "duration": 0.061445,
     "end_time": "2024-09-24T00:38:51.495954",
     "exception": false,
     "start_time": "2024-09-24T00:38:51.434509",
     "status": "completed"
    },
    "tags": []
   },
   "outputs": [
    {
     "data": {
      "text/html": [
       "<div>\n",
       "<style scoped>\n",
       "    .dataframe tbody tr th:only-of-type {\n",
       "        vertical-align: middle;\n",
       "    }\n",
       "\n",
       "    .dataframe tbody tr th {\n",
       "        vertical-align: top;\n",
       "    }\n",
       "\n",
       "    .dataframe thead th {\n",
       "        text-align: right;\n",
       "    }\n",
       "</style>\n",
       "<table border=\"1\" class=\"dataframe\">\n",
       "  <thead>\n",
       "    <tr style=\"text-align: right;\">\n",
       "      <th></th>\n",
       "      <th>AppID</th>\n",
       "      <th>Name</th>\n",
       "      <th>Release date</th>\n",
       "      <th>Estimated owners</th>\n",
       "      <th>Peak CCU</th>\n",
       "      <th>Required age</th>\n",
       "      <th>Price</th>\n",
       "      <th>Unknown</th>\n",
       "      <th>DiscountDLC count</th>\n",
       "      <th>About the game</th>\n",
       "      <th>Supported languages</th>\n",
       "      <th>Full audio languages</th>\n",
       "      <th>Reviews</th>\n",
       "      <th>Header image</th>\n",
       "      <th>Website</th>\n",
       "      <th>Support url</th>\n",
       "      <th>Support email</th>\n",
       "      <th>Windows</th>\n",
       "      <th>Mac</th>\n",
       "      <th>Linux</th>\n",
       "      <th>Metacritic score</th>\n",
       "      <th>Metacritic url</th>\n",
       "      <th>User score</th>\n",
       "      <th>Positive</th>\n",
       "      <th>Negative</th>\n",
       "      <th>Score rank</th>\n",
       "      <th>Achievements</th>\n",
       "      <th>Recommendations</th>\n",
       "      <th>Notes</th>\n",
       "      <th>Average playtime forever</th>\n",
       "      <th>Average playtime two weeks</th>\n",
       "      <th>Median playtime forever</th>\n",
       "      <th>Median playtime two weeks</th>\n",
       "      <th>Developers</th>\n",
       "      <th>Publishers</th>\n",
       "      <th>Categories</th>\n",
       "      <th>Genres</th>\n",
       "      <th>Tags</th>\n",
       "      <th>Screenshots</th>\n",
       "      <th>Movies</th>\n",
       "    </tr>\n",
       "  </thead>\n",
       "  <tbody>\n",
       "    <tr>\n",
       "      <th>0</th>\n",
       "      <td>1535090</td>\n",
       "      <td>VR Kyoto: Beauty of Japan</td>\n",
       "      <td>Feb 16, 2021</td>\n",
       "      <td>0 - 20000</td>\n",
       "      <td>0</td>\n",
       "      <td>0</td>\n",
       "      <td>2.99</td>\n",
       "      <td>0</td>\n",
       "      <td>0</td>\n",
       "      <td>Immerse yourself in the world of Japanese beautiful places / towns for about 20 minutes. You wil...</td>\n",
       "      <td>['English', 'French', 'Italian', 'German', 'Spanish - Spain']</td>\n",
       "      <td>[]</td>\n",
       "      <td>NaN</td>\n",
       "      <td>https://cdn.akamai.steamstatic.com/steam/apps/1535090/header.jpg?t=1658712885</td>\n",
       "      <td>NaN</td>\n",
       "      <td>vr.oxbros.com</td>\n",
       "      <td>NaN</td>\n",
       "      <td>True</td>\n",
       "      <td>False</td>\n",
       "      <td>False</td>\n",
       "      <td>0</td>\n",
       "      <td>NaN</td>\n",
       "      <td>0</td>\n",
       "      <td>16</td>\n",
       "      <td>8</td>\n",
       "      <td>NaN</td>\n",
       "      <td>0</td>\n",
       "      <td>0</td>\n",
       "      <td>NaN</td>\n",
       "      <td>0</td>\n",
       "      <td>0</td>\n",
       "      <td>0</td>\n",
       "      <td>0</td>\n",
       "      <td>William at Oxford</td>\n",
       "      <td>William at Oxford</td>\n",
       "      <td>Single-player</td>\n",
       "      <td>Casual</td>\n",
       "      <td>Casual,Walking Simulator,First-Person,VR,Singleplayer</td>\n",
       "      <td>https://cdn.akamai.steamstatic.com/steam/apps/1535090/ss_2ec0c7535563eede58ed4569a444dee750129bd...</td>\n",
       "      <td>http://cdn.akamai.steamstatic.com/steam/apps/256820968/movie_max.mp4?t=1658712884</td>\n",
       "    </tr>\n",
       "    <tr>\n",
       "      <th>1</th>\n",
       "      <td>745970</td>\n",
       "      <td>Terminal Conflict</td>\n",
       "      <td>Sep 24, 2020</td>\n",
       "      <td>0 - 20000</td>\n",
       "      <td>1</td>\n",
       "      <td>0</td>\n",
       "      <td>29.99</td>\n",
       "      <td>0</td>\n",
       "      <td>4</td>\n",
       "      <td>Command history in this most definitive Cold War strategy game . Gain access to your retro termi...</td>\n",
       "      <td>['English']</td>\n",
       "      <td>['English']</td>\n",
       "      <td>“It's engaging, well designed and made with a passion for the period. It delivers as one of the ...</td>\n",
       "      <td>https://cdn.akamai.steamstatic.com/steam/apps/745970/header.jpg?t=1648395677</td>\n",
       "      <td>http://terminalconflict.com</td>\n",
       "      <td>http://strategy-mill.com/contact.html</td>\n",
       "      <td>support@strategy-mill.com</td>\n",
       "      <td>True</td>\n",
       "      <td>True</td>\n",
       "      <td>True</td>\n",
       "      <td>0</td>\n",
       "      <td>NaN</td>\n",
       "      <td>0</td>\n",
       "      <td>42</td>\n",
       "      <td>14</td>\n",
       "      <td>NaN</td>\n",
       "      <td>42</td>\n",
       "      <td>0</td>\n",
       "      <td>NaN</td>\n",
       "      <td>0</td>\n",
       "      <td>0</td>\n",
       "      <td>0</td>\n",
       "      <td>0</td>\n",
       "      <td>Strategy Mill,BL-Logic,Scribble Pad Studios,Polywickstudio</td>\n",
       "      <td>Strategy Mill</td>\n",
       "      <td>Single-player,Multi-player,PvP,Online PvP,Cross-Platform Multiplayer,Steam Achievements,Steam Wo...</td>\n",
       "      <td>Simulation,Strategy</td>\n",
       "      <td>Simulation,Strategy,Cold War,Political,Retro,Grand Strategy,Turn-Based Strategy,Board Game,Polit...</td>\n",
       "      <td>https://cdn.akamai.steamstatic.com/steam/apps/745970/ss_9cd69b483866f3f76aaf1f6893112e9b9b9ddae4...</td>\n",
       "      <td>http://cdn.akamai.steamstatic.com/steam/apps/256737282/movie_max.mp4?t=1543852819</td>\n",
       "    </tr>\n",
       "    <tr>\n",
       "      <th>2</th>\n",
       "      <td>1548270</td>\n",
       "      <td>Darkilson</td>\n",
       "      <td>Feb 23, 2021</td>\n",
       "      <td>0 - 20000</td>\n",
       "      <td>0</td>\n",
       "      <td>0</td>\n",
       "      <td>0.99</td>\n",
       "      <td>0</td>\n",
       "      <td>0</td>\n",
       "      <td>Due to a terrible curse, the BA Bear was locked down in an asylum for meek and hairy bears. Help...</td>\n",
       "      <td>['Portuguese - Brazil']</td>\n",
       "      <td>['Portuguese - Brazil']</td>\n",
       "      <td>NaN</td>\n",
       "      <td>https://cdn.akamai.steamstatic.com/steam/apps/1548270/header.jpg?t=1614095231</td>\n",
       "      <td>https://www.facebook.com/KomachoGames</td>\n",
       "      <td>https://www.facebook.com/KomachoGames</td>\n",
       "      <td>komachogames@gmail.com</td>\n",
       "      <td>True</td>\n",
       "      <td>False</td>\n",
       "      <td>False</td>\n",
       "      <td>0</td>\n",
       "      <td>NaN</td>\n",
       "      <td>0</td>\n",
       "      <td>10</td>\n",
       "      <td>1</td>\n",
       "      <td>NaN</td>\n",
       "      <td>9</td>\n",
       "      <td>0</td>\n",
       "      <td>This game contains partial nudity and some curse words.</td>\n",
       "      <td>0</td>\n",
       "      <td>0</td>\n",
       "      <td>0</td>\n",
       "      <td>0</td>\n",
       "      <td>Komacho</td>\n",
       "      <td>Komacho</td>\n",
       "      <td>Single-player,Steam Achievements,Full controller support</td>\n",
       "      <td>Casual,Indie</td>\n",
       "      <td>Memes,Singleplayer,Stealth,Dark,Horror,Surreal,2D,Cute,Platformer,Perma Death,Third Person,Psych...</td>\n",
       "      <td>https://cdn.akamai.steamstatic.com/steam/apps/1548270/ss_9a5b6333d8866661d9c07e05b440b86c330fe3d...</td>\n",
       "      <td>http://cdn.akamai.steamstatic.com/steam/apps/256821572/movie_max.mp4?t=1612900463</td>\n",
       "    </tr>\n",
       "    <tr>\n",
       "      <th>3</th>\n",
       "      <td>2944670</td>\n",
       "      <td>Rapta</td>\n",
       "      <td>Jul 12, 2024</td>\n",
       "      <td>0 - 0</td>\n",
       "      <td>0</td>\n",
       "      <td>0</td>\n",
       "      <td>4.49</td>\n",
       "      <td>0</td>\n",
       "      <td>0</td>\n",
       "      <td>Introduction: Explore the Silicon Sneak system and use your efforts to rescue your kidnapped sis...</td>\n",
       "      <td>['English', 'Portuguese - Brazil']</td>\n",
       "      <td>[]</td>\n",
       "      <td>NaN</td>\n",
       "      <td>https://shared.akamai.steamstatic.com/store_item_assets/steam/apps/2944670/header.jpg?t=1720795987</td>\n",
       "      <td>NaN</td>\n",
       "      <td>NaN</td>\n",
       "      <td>RaptaSteamGame@gmail.com</td>\n",
       "      <td>True</td>\n",
       "      <td>False</td>\n",
       "      <td>False</td>\n",
       "      <td>0</td>\n",
       "      <td>NaN</td>\n",
       "      <td>0</td>\n",
       "      <td>0</td>\n",
       "      <td>0</td>\n",
       "      <td>NaN</td>\n",
       "      <td>15</td>\n",
       "      <td>0</td>\n",
       "      <td>The theme and situations present in the game involve kidnappings, system invasions, theft and mu...</td>\n",
       "      <td>0</td>\n",
       "      <td>0</td>\n",
       "      <td>0</td>\n",
       "      <td>0</td>\n",
       "      <td>Felipai,Kamuii</td>\n",
       "      <td>Felipai,Kamuii</td>\n",
       "      <td>Single-player,Steam Achievements,Steam Cloud,Family Sharing</td>\n",
       "      <td>Casual,Indie,Simulation,Strategy,Early Access</td>\n",
       "      <td>NaN</td>\n",
       "      <td>https://shared.akamai.steamstatic.com/store_item_assets/steam/apps/2944670/ss_8270639424b75b0903...</td>\n",
       "      <td>http://cdn.akamai.steamstatic.com/steam/apps/257033007/movie_max.mp4?t=1719600752</td>\n",
       "    </tr>\n",
       "    <tr>\n",
       "      <th>4</th>\n",
       "      <td>2260980</td>\n",
       "      <td>University Life Visual Novel</td>\n",
       "      <td>Feb 23, 2023</td>\n",
       "      <td>0 - 0</td>\n",
       "      <td>0</td>\n",
       "      <td>0</td>\n",
       "      <td>13.99</td>\n",
       "      <td>0</td>\n",
       "      <td>0</td>\n",
       "      <td>Entertaining &amp;amp; Engaging Story Welcome to University Life! Set in the vibrant town of Falls V...</td>\n",
       "      <td>['English']</td>\n",
       "      <td>['English']</td>\n",
       "      <td>NaN</td>\n",
       "      <td>https://cdn.akamai.steamstatic.com/steam/apps/2260980/header.jpg?t=1677186294</td>\n",
       "      <td>NaN</td>\n",
       "      <td>NaN</td>\n",
       "      <td>universitylifevn@gmail.com</td>\n",
       "      <td>True</td>\n",
       "      <td>False</td>\n",
       "      <td>False</td>\n",
       "      <td>0</td>\n",
       "      <td>NaN</td>\n",
       "      <td>0</td>\n",
       "      <td>0</td>\n",
       "      <td>0</td>\n",
       "      <td>NaN</td>\n",
       "      <td>0</td>\n",
       "      <td>0</td>\n",
       "      <td>This Visual novel contains: Sexual Content, Violence, Alcohol, Smoking, and Mature Language. If ...</td>\n",
       "      <td>0</td>\n",
       "      <td>0</td>\n",
       "      <td>0</td>\n",
       "      <td>0</td>\n",
       "      <td>Travis Sullivan,Alex Draco,Elisha Bauder</td>\n",
       "      <td>Sarah Nyx</td>\n",
       "      <td>Single-player</td>\n",
       "      <td>Action,Adventure,Casual,Indie,Simulation</td>\n",
       "      <td>NaN</td>\n",
       "      <td>https://cdn.akamai.steamstatic.com/steam/apps/2260980/ss_eac112731f081ba1874d6b1950df7e78b917044...</td>\n",
       "      <td>http://cdn.akamai.steamstatic.com/steam/apps/256930714/movie_max.mp4?t=1676480737</td>\n",
       "    </tr>\n",
       "  </tbody>\n",
       "</table>\n",
       "</div>"
      ],
      "text/plain": [
       "     AppID                          Name  Release date Estimated owners  \\\n",
       "0  1535090     VR Kyoto: Beauty of Japan  Feb 16, 2021        0 - 20000   \n",
       "1   745970             Terminal Conflict  Sep 24, 2020        0 - 20000   \n",
       "2  1548270                     Darkilson  Feb 23, 2021        0 - 20000   \n",
       "3  2944670                         Rapta  Jul 12, 2024            0 - 0   \n",
       "4  2260980  University Life Visual Novel  Feb 23, 2023            0 - 0   \n",
       "\n",
       "   Peak CCU  Required age  Price  Unknown  DiscountDLC count  \\\n",
       "0         0             0   2.99        0                  0   \n",
       "1         1             0  29.99        0                  4   \n",
       "2         0             0   0.99        0                  0   \n",
       "3         0             0   4.49        0                  0   \n",
       "4         0             0  13.99        0                  0   \n",
       "\n",
       "                                                                                        About the game  \\\n",
       "0  Immerse yourself in the world of Japanese beautiful places / towns for about 20 minutes. You wil...   \n",
       "1  Command history in this most definitive Cold War strategy game . Gain access to your retro termi...   \n",
       "2  Due to a terrible curse, the BA Bear was locked down in an asylum for meek and hairy bears. Help...   \n",
       "3  Introduction: Explore the Silicon Sneak system and use your efforts to rescue your kidnapped sis...   \n",
       "4  Entertaining &amp; Engaging Story Welcome to University Life! Set in the vibrant town of Falls V...   \n",
       "\n",
       "                                             Supported languages  \\\n",
       "0  ['English', 'French', 'Italian', 'German', 'Spanish - Spain']   \n",
       "1                                                    ['English']   \n",
       "2                                        ['Portuguese - Brazil']   \n",
       "3                             ['English', 'Portuguese - Brazil']   \n",
       "4                                                    ['English']   \n",
       "\n",
       "      Full audio languages  \\\n",
       "0                       []   \n",
       "1              ['English']   \n",
       "2  ['Portuguese - Brazil']   \n",
       "3                       []   \n",
       "4              ['English']   \n",
       "\n",
       "                                                                                               Reviews  \\\n",
       "0                                                                                                  NaN   \n",
       "1  “It's engaging, well designed and made with a passion for the period. It delivers as one of the ...   \n",
       "2                                                                                                  NaN   \n",
       "3                                                                                                  NaN   \n",
       "4                                                                                                  NaN   \n",
       "\n",
       "                                                                                         Header image  \\\n",
       "0                       https://cdn.akamai.steamstatic.com/steam/apps/1535090/header.jpg?t=1658712885   \n",
       "1                        https://cdn.akamai.steamstatic.com/steam/apps/745970/header.jpg?t=1648395677   \n",
       "2                       https://cdn.akamai.steamstatic.com/steam/apps/1548270/header.jpg?t=1614095231   \n",
       "3  https://shared.akamai.steamstatic.com/store_item_assets/steam/apps/2944670/header.jpg?t=1720795987   \n",
       "4                       https://cdn.akamai.steamstatic.com/steam/apps/2260980/header.jpg?t=1677186294   \n",
       "\n",
       "                                 Website  \\\n",
       "0                                    NaN   \n",
       "1            http://terminalconflict.com   \n",
       "2  https://www.facebook.com/KomachoGames   \n",
       "3                                    NaN   \n",
       "4                                    NaN   \n",
       "\n",
       "                             Support url               Support email  Windows  \\\n",
       "0                          vr.oxbros.com                         NaN     True   \n",
       "1  http://strategy-mill.com/contact.html   support@strategy-mill.com     True   \n",
       "2  https://www.facebook.com/KomachoGames      komachogames@gmail.com     True   \n",
       "3                                    NaN    RaptaSteamGame@gmail.com     True   \n",
       "4                                    NaN  universitylifevn@gmail.com     True   \n",
       "\n",
       "     Mac  Linux  Metacritic score Metacritic url  User score  Positive  \\\n",
       "0  False  False                 0            NaN           0        16   \n",
       "1   True   True                 0            NaN           0        42   \n",
       "2  False  False                 0            NaN           0        10   \n",
       "3  False  False                 0            NaN           0         0   \n",
       "4  False  False                 0            NaN           0         0   \n",
       "\n",
       "   Negative  Score rank  Achievements  Recommendations  \\\n",
       "0         8         NaN             0                0   \n",
       "1        14         NaN            42                0   \n",
       "2         1         NaN             9                0   \n",
       "3         0         NaN            15                0   \n",
       "4         0         NaN             0                0   \n",
       "\n",
       "                                                                                                 Notes  \\\n",
       "0                                                                                                  NaN   \n",
       "1                                                                                                  NaN   \n",
       "2                                              This game contains partial nudity and some curse words.   \n",
       "3  The theme and situations present in the game involve kidnappings, system invasions, theft and mu...   \n",
       "4  This Visual novel contains: Sexual Content, Violence, Alcohol, Smoking, and Mature Language. If ...   \n",
       "\n",
       "   Average playtime forever  Average playtime two weeks  \\\n",
       "0                         0                           0   \n",
       "1                         0                           0   \n",
       "2                         0                           0   \n",
       "3                         0                           0   \n",
       "4                         0                           0   \n",
       "\n",
       "   Median playtime forever  Median playtime two weeks  \\\n",
       "0                        0                          0   \n",
       "1                        0                          0   \n",
       "2                        0                          0   \n",
       "3                        0                          0   \n",
       "4                        0                          0   \n",
       "\n",
       "                                                   Developers  \\\n",
       "0                                           William at Oxford   \n",
       "1  Strategy Mill,BL-Logic,Scribble Pad Studios,Polywickstudio   \n",
       "2                                                     Komacho   \n",
       "3                                              Felipai,Kamuii   \n",
       "4                    Travis Sullivan,Alex Draco,Elisha Bauder   \n",
       "\n",
       "          Publishers  \\\n",
       "0  William at Oxford   \n",
       "1      Strategy Mill   \n",
       "2            Komacho   \n",
       "3     Felipai,Kamuii   \n",
       "4          Sarah Nyx   \n",
       "\n",
       "                                                                                            Categories  \\\n",
       "0                                                                                        Single-player   \n",
       "1  Single-player,Multi-player,PvP,Online PvP,Cross-Platform Multiplayer,Steam Achievements,Steam Wo...   \n",
       "2                                             Single-player,Steam Achievements,Full controller support   \n",
       "3                                          Single-player,Steam Achievements,Steam Cloud,Family Sharing   \n",
       "4                                                                                        Single-player   \n",
       "\n",
       "                                          Genres  \\\n",
       "0                                         Casual   \n",
       "1                            Simulation,Strategy   \n",
       "2                                   Casual,Indie   \n",
       "3  Casual,Indie,Simulation,Strategy,Early Access   \n",
       "4       Action,Adventure,Casual,Indie,Simulation   \n",
       "\n",
       "                                                                                                  Tags  \\\n",
       "0                                                Casual,Walking Simulator,First-Person,VR,Singleplayer   \n",
       "1  Simulation,Strategy,Cold War,Political,Retro,Grand Strategy,Turn-Based Strategy,Board Game,Polit...   \n",
       "2  Memes,Singleplayer,Stealth,Dark,Horror,Surreal,2D,Cute,Platformer,Perma Death,Third Person,Psych...   \n",
       "3                                                                                                  NaN   \n",
       "4                                                                                                  NaN   \n",
       "\n",
       "                                                                                           Screenshots  \\\n",
       "0  https://cdn.akamai.steamstatic.com/steam/apps/1535090/ss_2ec0c7535563eede58ed4569a444dee750129bd...   \n",
       "1  https://cdn.akamai.steamstatic.com/steam/apps/745970/ss_9cd69b483866f3f76aaf1f6893112e9b9b9ddae4...   \n",
       "2  https://cdn.akamai.steamstatic.com/steam/apps/1548270/ss_9a5b6333d8866661d9c07e05b440b86c330fe3d...   \n",
       "3  https://shared.akamai.steamstatic.com/store_item_assets/steam/apps/2944670/ss_8270639424b75b0903...   \n",
       "4  https://cdn.akamai.steamstatic.com/steam/apps/2260980/ss_eac112731f081ba1874d6b1950df7e78b917044...   \n",
       "\n",
       "                                                                              Movies  \n",
       "0  http://cdn.akamai.steamstatic.com/steam/apps/256820968/movie_max.mp4?t=1658712884  \n",
       "1  http://cdn.akamai.steamstatic.com/steam/apps/256737282/movie_max.mp4?t=1543852819  \n",
       "2  http://cdn.akamai.steamstatic.com/steam/apps/256821572/movie_max.mp4?t=1612900463  \n",
       "3  http://cdn.akamai.steamstatic.com/steam/apps/257033007/movie_max.mp4?t=1719600752  \n",
       "4  http://cdn.akamai.steamstatic.com/steam/apps/256930714/movie_max.mp4?t=1676480737  "
      ]
     },
     "execution_count": 62,
     "metadata": {},
     "output_type": "execute_result"
    }
   ],
   "source": [
    "games_df.head()"
   ]
  },
  {
   "cell_type": "code",
   "execution_count": 63,
   "id": "9eee39b1",
   "metadata": {
    "execution": {
     "iopub.execute_input": "2024-09-24T00:38:51.532740Z",
     "iopub.status.busy": "2024-09-24T00:38:51.532178Z",
     "iopub.status.idle": "2024-09-24T00:38:51.544790Z",
     "shell.execute_reply": "2024-09-24T00:38:51.543662Z"
    },
    "papermill": {
     "duration": 0.033764,
     "end_time": "2024-09-24T00:38:51.547222",
     "exception": false,
     "start_time": "2024-09-24T00:38:51.513458",
     "status": "completed"
    },
    "tags": []
   },
   "outputs": [
    {
     "data": {
      "text/html": [
       "<div>\n",
       "<style scoped>\n",
       "    .dataframe tbody tr th:only-of-type {\n",
       "        vertical-align: middle;\n",
       "    }\n",
       "\n",
       "    .dataframe tbody tr th {\n",
       "        vertical-align: top;\n",
       "    }\n",
       "\n",
       "    .dataframe thead th {\n",
       "        text-align: right;\n",
       "    }\n",
       "</style>\n",
       "<table border=\"1\" class=\"dataframe\">\n",
       "  <thead>\n",
       "    <tr style=\"text-align: right;\">\n",
       "      <th></th>\n",
       "      <th>app_id</th>\n",
       "      <th>app_name</th>\n",
       "      <th>review_text</th>\n",
       "      <th>review_score</th>\n",
       "      <th>review_votes</th>\n",
       "    </tr>\n",
       "  </thead>\n",
       "  <tbody>\n",
       "    <tr>\n",
       "      <th>0</th>\n",
       "      <td>391540</td>\n",
       "      <td>Undertale</td>\n",
       "      <td>Never before have I played something that made me feel like my actions mattered so much... even ...</td>\n",
       "      <td>1</td>\n",
       "      <td>0</td>\n",
       "    </tr>\n",
       "    <tr>\n",
       "      <th>1</th>\n",
       "      <td>239140</td>\n",
       "      <td>Dying Light</td>\n",
       "      <td>Great game, kept me entertained for more than a whole playthrough. Visuals are great and control...</td>\n",
       "      <td>1</td>\n",
       "      <td>0</td>\n",
       "    </tr>\n",
       "    <tr>\n",
       "      <th>2</th>\n",
       "      <td>238960</td>\n",
       "      <td>Path of Exile</td>\n",
       "      <td>Honestly, the devs of this game have such integrity and dedication to their game its unbelievabl...</td>\n",
       "      <td>1</td>\n",
       "      <td>0</td>\n",
       "    </tr>\n",
       "    <tr>\n",
       "      <th>3</th>\n",
       "      <td>92000</td>\n",
       "      <td>Hydrophobia: Prophecy</td>\n",
       "      <td>It's not that bad game. Sometimes it feels more like tech demo, but after all the gameplay is qu...</td>\n",
       "      <td>1</td>\n",
       "      <td>0</td>\n",
       "    </tr>\n",
       "    <tr>\n",
       "      <th>4</th>\n",
       "      <td>7520</td>\n",
       "      <td>Two Worlds II</td>\n",
       "      <td>I will give this game a thumbs up becaus it costs less than $2.50 and is at least as entertainin...</td>\n",
       "      <td>1</td>\n",
       "      <td>0</td>\n",
       "    </tr>\n",
       "  </tbody>\n",
       "</table>\n",
       "</div>"
      ],
      "text/plain": [
       "   app_id               app_name  \\\n",
       "0  391540              Undertale   \n",
       "1  239140            Dying Light   \n",
       "2  238960          Path of Exile   \n",
       "3   92000  Hydrophobia: Prophecy   \n",
       "4    7520          Two Worlds II   \n",
       "\n",
       "                                                                                           review_text  \\\n",
       "0  Never before have I played something that made me feel like my actions mattered so much... even ...   \n",
       "1  Great game, kept me entertained for more than a whole playthrough. Visuals are great and control...   \n",
       "2  Honestly, the devs of this game have such integrity and dedication to their game its unbelievabl...   \n",
       "3  It's not that bad game. Sometimes it feels more like tech demo, but after all the gameplay is qu...   \n",
       "4  I will give this game a thumbs up becaus it costs less than $2.50 and is at least as entertainin...   \n",
       "\n",
       "   review_score  review_votes  \n",
       "0             1             0  \n",
       "1             1             0  \n",
       "2             1             0  \n",
       "3             1             0  \n",
       "4             1             0  "
      ]
     },
     "execution_count": 63,
     "metadata": {},
     "output_type": "execute_result"
    }
   ],
   "source": [
    "reviews_df.head()"
   ]
  },
  {
   "cell_type": "code",
   "execution_count": 64,
   "id": "3ebf4d2e",
   "metadata": {
    "execution": {
     "iopub.execute_input": "2024-09-24T00:38:51.584916Z",
     "iopub.status.busy": "2024-09-24T00:38:51.583959Z",
     "iopub.status.idle": "2024-09-24T00:38:51.600240Z",
     "shell.execute_reply": "2024-09-24T00:38:51.599072Z"
    },
    "papermill": {
     "duration": 0.037616,
     "end_time": "2024-09-24T00:38:51.602699",
     "exception": false,
     "start_time": "2024-09-24T00:38:51.565083",
     "status": "completed"
    },
    "tags": []
   },
   "outputs": [
    {
     "data": {
      "text/plain": [
       "4870"
      ]
     },
     "execution_count": 64,
     "metadata": {},
     "output_type": "execute_result"
    }
   ],
   "source": [
    "games_df['AppID'].nunique()"
   ]
  },
  {
   "cell_type": "code",
   "execution_count": 65,
   "id": "3529064f",
   "metadata": {
    "execution": {
     "iopub.execute_input": "2024-09-24T00:38:51.640645Z",
     "iopub.status.busy": "2024-09-24T00:38:51.639568Z",
     "iopub.status.idle": "2024-09-24T00:38:51.683778Z",
     "shell.execute_reply": "2024-09-24T00:38:51.682664Z"
    },
    "papermill": {
     "duration": 0.065761,
     "end_time": "2024-09-24T00:38:51.686343",
     "exception": false,
     "start_time": "2024-09-24T00:38:51.620582",
     "status": "completed"
    },
    "tags": []
   },
   "outputs": [
    {
     "data": {
      "text/plain": [
       "477"
      ]
     },
     "execution_count": 65,
     "metadata": {},
     "output_type": "execute_result"
    }
   ],
   "source": [
    "reviews_df[\"app_id\"].nunique()"
   ]
  },
  {
   "cell_type": "code",
   "execution_count": 66,
   "id": "198fdc6d",
   "metadata": {
    "execution": {
     "iopub.execute_input": "2024-09-24T00:38:51.724428Z",
     "iopub.status.busy": "2024-09-24T00:38:51.723505Z",
     "iopub.status.idle": "2024-09-24T00:38:51.796144Z",
     "shell.execute_reply": "2024-09-24T00:38:51.794947Z"
    },
    "papermill": {
     "duration": 0.094233,
     "end_time": "2024-09-24T00:38:51.798571",
     "exception": false,
     "start_time": "2024-09-24T00:38:51.704338",
     "status": "completed"
    },
    "tags": []
   },
   "outputs": [
    {
     "data": {
      "text/plain": [
       "review_score\n",
       " 1    284087\n",
       "-1     36768\n",
       "Name: count, dtype: int64"
      ]
     },
     "execution_count": 66,
     "metadata": {},
     "output_type": "execute_result"
    }
   ],
   "source": [
    "reviews_df[\"review_score\"].value_counts()"
   ]
  },
  {
   "cell_type": "code",
   "execution_count": 67,
   "id": "5bf1969b",
   "metadata": {
    "execution": {
     "iopub.execute_input": "2024-09-24T00:38:51.836729Z",
     "iopub.status.busy": "2024-09-24T00:38:51.836302Z",
     "iopub.status.idle": "2024-09-24T00:38:51.841209Z",
     "shell.execute_reply": "2024-09-24T00:38:51.840045Z"
    },
    "papermill": {
     "duration": 0.02681,
     "end_time": "2024-09-24T00:38:51.843710",
     "exception": false,
     "start_time": "2024-09-24T00:38:51.816900",
     "status": "completed"
    },
    "tags": []
   },
   "outputs": [],
   "source": [
    "# Dataframes cleaning"
   ]
  },
  {
   "cell_type": "code",
   "execution_count": 68,
   "id": "af77cec5",
   "metadata": {
    "execution": {
     "iopub.execute_input": "2024-09-24T00:38:51.882650Z",
     "iopub.status.busy": "2024-09-24T00:38:51.881562Z",
     "iopub.status.idle": "2024-09-24T00:38:51.887194Z",
     "shell.execute_reply": "2024-09-24T00:38:51.886146Z"
    },
    "papermill": {
     "duration": 0.027585,
     "end_time": "2024-09-24T00:38:51.889532",
     "exception": false,
     "start_time": "2024-09-24T00:38:51.861947",
     "status": "completed"
    },
    "tags": []
   },
   "outputs": [],
   "source": [
    "games_df_columns = ['AppID', 'Name', 'Windows', 'Mac', 'Linux', 'Genres', 'Release date', 'Average playtime forever', 'Positive', 'Negative']\n",
    "reviews_df_columns = ['app_id', 'review_text', 'review_score']"
   ]
  },
  {
   "cell_type": "code",
   "execution_count": 69,
   "id": "41b4bb09",
   "metadata": {
    "execution": {
     "iopub.execute_input": "2024-09-24T00:38:51.928242Z",
     "iopub.status.busy": "2024-09-24T00:38:51.927425Z",
     "iopub.status.idle": "2024-09-24T00:38:54.010481Z",
     "shell.execute_reply": "2024-09-24T00:38:54.009277Z"
    },
    "papermill": {
     "duration": 2.105255,
     "end_time": "2024-09-24T00:38:54.013169",
     "exception": false,
     "start_time": "2024-09-24T00:38:51.907914",
     "status": "completed"
    },
    "tags": []
   },
   "outputs": [],
   "source": [
    "games_df_cleaned = games_df.dropna(subset=games_df_columns)[games_df_columns].copy()\n",
    "reviews_df_cleaned = reviews_df.dropna(subset=reviews_df_columns)[reviews_df_columns].copy()"
   ]
  },
  {
   "cell_type": "code",
   "execution_count": 70,
   "id": "06313a07",
   "metadata": {
    "execution": {
     "iopub.execute_input": "2024-09-24T00:38:54.052023Z",
     "iopub.status.busy": "2024-09-24T00:38:54.051124Z",
     "iopub.status.idle": "2024-09-24T00:38:54.084529Z",
     "shell.execute_reply": "2024-09-24T00:38:54.083487Z"
    },
    "papermill": {
     "duration": 0.055463,
     "end_time": "2024-09-24T00:38:54.087073",
     "exception": false,
     "start_time": "2024-09-24T00:38:54.031610",
     "status": "completed"
    },
    "tags": []
   },
   "outputs": [],
   "source": [
    "games_df_cleaned[\"Genres\"] = games_df_cleaned[\"Genres\"].str.lower()"
   ]
  },
  {
   "cell_type": "code",
   "execution_count": 71,
   "id": "d06b9b7f",
   "metadata": {
    "execution": {
     "iopub.execute_input": "2024-09-24T00:38:54.125374Z",
     "iopub.status.busy": "2024-09-24T00:38:54.124968Z",
     "iopub.status.idle": "2024-09-24T00:38:54.636776Z",
     "shell.execute_reply": "2024-09-24T00:38:54.635799Z"
    },
    "papermill": {
     "duration": 0.533715,
     "end_time": "2024-09-24T00:38:54.639394",
     "exception": false,
     "start_time": "2024-09-24T00:38:54.105679",
     "status": "completed"
    },
    "tags": []
   },
   "outputs": [],
   "source": [
    "reviews_df_cleaned['review_text'] = reviews_df_cleaned['review_text'].astype(str)"
   ]
  },
  {
   "cell_type": "markdown",
   "id": "311cfe94",
   "metadata": {
    "papermill": {
     "duration": 0.017778,
     "end_time": "2024-09-24T00:38:54.675421",
     "exception": false,
     "start_time": "2024-09-24T00:38:54.657643",
     "status": "completed"
    },
    "tags": []
   },
   "source": [
    "# Queries resolution"
   ]
  },
  {
   "cell_type": "markdown",
   "id": "4e981ad7",
   "metadata": {
    "papermill": {
     "duration": 0.018069,
     "end_time": "2024-09-24T00:38:54.711624",
     "exception": false,
     "start_time": "2024-09-24T00:38:54.693555",
     "status": "completed"
    },
    "tags": []
   },
   "source": [
    "## Q1: Cantidad de juegos soportados en cada plataforma (Windows, Linux, MAC)"
   ]
  },
  {
   "cell_type": "code",
   "execution_count": 72,
   "id": "cf2c4c00",
   "metadata": {
    "execution": {
     "iopub.execute_input": "2024-09-24T00:38:54.749848Z",
     "iopub.status.busy": "2024-09-24T00:38:54.748898Z",
     "iopub.status.idle": "2024-09-24T00:38:54.769404Z",
     "shell.execute_reply": "2024-09-24T00:38:54.768322Z"
    },
    "papermill": {
     "duration": 0.042572,
     "end_time": "2024-09-24T00:38:54.772174",
     "exception": false,
     "start_time": "2024-09-24T00:38:54.729602",
     "status": "completed"
    },
    "tags": []
   },
   "outputs": [],
   "source": [
    "windows_supported_games = games_df_cleaned[games_df_cleaned[\"Windows\"] == True]\n",
    "linux_supported_games = games_df_cleaned[games_df_cleaned[\"Linux\"] == True]\n",
    "mac_supported_games = games_df_cleaned[games_df_cleaned[\"Mac\"] == True]"
   ]
  },
  {
   "cell_type": "code",
   "execution_count": 73,
   "id": "93df6edf",
   "metadata": {
    "execution": {
     "iopub.execute_input": "2024-09-24T00:38:54.810507Z",
     "iopub.status.busy": "2024-09-24T00:38:54.810065Z",
     "iopub.status.idle": "2024-09-24T00:38:54.817852Z",
     "shell.execute_reply": "2024-09-24T00:38:54.816770Z"
    },
    "papermill": {
     "duration": 0.029914,
     "end_time": "2024-09-24T00:38:54.820363",
     "exception": false,
     "start_time": "2024-09-24T00:38:54.790449",
     "status": "completed"
    },
    "tags": []
   },
   "outputs": [
    {
     "name": "stdout",
     "output_type": "stream",
     "text": [
      "Total de juegos: 4634\n",
      "Total de juegos soportados en Windows: 4632\n",
      "Total de juegos soportados en Linux: 603\n",
      "Total de juegos soportados en Mac: 914\n"
     ]
    }
   ],
   "source": [
    "print(\"Total de juegos: \" + str(games_df_cleaned.shape[0]))\n",
    "print(\"Total de juegos soportados en Windows: \" + str(windows_supported_games.shape[0]))\n",
    "print(\"Total de juegos soportados en Linux: \" + str(linux_supported_games.shape[0]))\n",
    "print(\"Total de juegos soportados en Mac: \" + str(mac_supported_games.shape[0]))"
   ]
  },
  {
   "cell_type": "markdown",
   "id": "cec70ce7",
   "metadata": {
    "papermill": {
     "duration": 0.018078,
     "end_time": "2024-09-24T00:38:54.856821",
     "exception": false,
     "start_time": "2024-09-24T00:38:54.838743",
     "status": "completed"
    },
    "tags": []
   },
   "source": [
    "## Q2: Nombre del top 10 de juegos del género \"Indie\" publicados en la década del 2010 con más tiempo promedio histórico de juego"
   ]
  },
  {
   "cell_type": "code",
   "execution_count": 74,
   "id": "6010c26f",
   "metadata": {
    "execution": {
     "iopub.execute_input": "2024-09-24T00:38:54.895298Z",
     "iopub.status.busy": "2024-09-24T00:38:54.894901Z",
     "iopub.status.idle": "2024-09-24T00:38:54.962033Z",
     "shell.execute_reply": "2024-09-24T00:38:54.961072Z"
    },
    "papermill": {
     "duration": 0.08953,
     "end_time": "2024-09-24T00:38:54.964816",
     "exception": false,
     "start_time": "2024-09-24T00:38:54.875286",
     "status": "completed"
    },
    "tags": []
   },
   "outputs": [],
   "source": [
    "games_indie = games_df_cleaned[games_df_cleaned[\"Genres\"].str.contains(\"indie\")]"
   ]
  },
  {
   "cell_type": "code",
   "execution_count": 75,
   "id": "f19b0dd0",
   "metadata": {
    "execution": {
     "iopub.execute_input": "2024-09-24T00:38:55.004149Z",
     "iopub.status.busy": "2024-09-24T00:38:55.002925Z",
     "iopub.status.idle": "2024-09-24T00:38:55.049707Z",
     "shell.execute_reply": "2024-09-24T00:38:55.048420Z"
    },
    "papermill": {
     "duration": 0.069308,
     "end_time": "2024-09-24T00:38:55.052703",
     "exception": false,
     "start_time": "2024-09-24T00:38:54.983395",
     "status": "completed"
    },
    "tags": []
   },
   "outputs": [],
   "source": [
    "games_indie_2010_decade = games_indie[games_indie[\"Release date\"].str.contains(\"201\")]"
   ]
  },
  {
   "cell_type": "code",
   "execution_count": 76,
   "id": "258bbbc7",
   "metadata": {
    "execution": {
     "iopub.execute_input": "2024-09-24T00:38:55.090954Z",
     "iopub.status.busy": "2024-09-24T00:38:55.090558Z",
     "iopub.status.idle": "2024-09-24T00:38:55.097392Z",
     "shell.execute_reply": "2024-09-24T00:38:55.096347Z"
    },
    "papermill": {
     "duration": 0.028665,
     "end_time": "2024-09-24T00:38:55.099690",
     "exception": false,
     "start_time": "2024-09-24T00:38:55.071025",
     "status": "completed"
    },
    "tags": []
   },
   "outputs": [
    {
     "data": {
      "text/plain": [
       "(3246, 10)"
      ]
     },
     "execution_count": 76,
     "metadata": {},
     "output_type": "execute_result"
    }
   ],
   "source": [
    "games_indie.shape"
   ]
  },
  {
   "cell_type": "code",
   "execution_count": 77,
   "id": "9df90a26",
   "metadata": {
    "execution": {
     "iopub.execute_input": "2024-09-24T00:38:55.139819Z",
     "iopub.status.busy": "2024-09-24T00:38:55.139365Z",
     "iopub.status.idle": "2024-09-24T00:38:55.146359Z",
     "shell.execute_reply": "2024-09-24T00:38:55.145158Z"
    },
    "papermill": {
     "duration": 0.030905,
     "end_time": "2024-09-24T00:38:55.148889",
     "exception": false,
     "start_time": "2024-09-24T00:38:55.117984",
     "status": "completed"
    },
    "tags": []
   },
   "outputs": [
    {
     "data": {
      "text/plain": [
       "(1178, 10)"
      ]
     },
     "execution_count": 77,
     "metadata": {},
     "output_type": "execute_result"
    }
   ],
   "source": [
    "games_indie_2010_decade.shape"
   ]
  },
  {
   "cell_type": "code",
   "execution_count": 78,
   "id": "dfda8214",
   "metadata": {
    "execution": {
     "iopub.execute_input": "2024-09-24T00:38:55.187756Z",
     "iopub.status.busy": "2024-09-24T00:38:55.186988Z",
     "iopub.status.idle": "2024-09-24T00:38:55.198848Z",
     "shell.execute_reply": "2024-09-24T00:38:55.197849Z"
    },
    "papermill": {
     "duration": 0.034015,
     "end_time": "2024-09-24T00:38:55.201404",
     "exception": false,
     "start_time": "2024-09-24T00:38:55.167389",
     "status": "completed"
    },
    "tags": []
   },
   "outputs": [],
   "source": [
    "q2_result = games_indie_2010_decade.sort_values(by='Average playtime forever', ascending=False).head(10)"
   ]
  },
  {
   "cell_type": "code",
   "execution_count": 79,
   "id": "512ba513",
   "metadata": {
    "execution": {
     "iopub.execute_input": "2024-09-24T00:38:55.241624Z",
     "iopub.status.busy": "2024-09-24T00:38:55.240552Z",
     "iopub.status.idle": "2024-09-24T00:38:55.253220Z",
     "shell.execute_reply": "2024-09-24T00:38:55.252084Z"
    },
    "papermill": {
     "duration": 0.035187,
     "end_time": "2024-09-24T00:38:55.255704",
     "exception": false,
     "start_time": "2024-09-24T00:38:55.220517",
     "status": "completed"
    },
    "tags": []
   },
   "outputs": [
    {
     "data": {
      "text/html": [
       "<div>\n",
       "<style scoped>\n",
       "    .dataframe tbody tr th:only-of-type {\n",
       "        vertical-align: middle;\n",
       "    }\n",
       "\n",
       "    .dataframe tbody tr th {\n",
       "        vertical-align: top;\n",
       "    }\n",
       "\n",
       "    .dataframe thead th {\n",
       "        text-align: right;\n",
       "    }\n",
       "</style>\n",
       "<table border=\"1\" class=\"dataframe\">\n",
       "  <thead>\n",
       "    <tr style=\"text-align: right;\">\n",
       "      <th></th>\n",
       "      <th>Name</th>\n",
       "      <th>Average playtime forever</th>\n",
       "    </tr>\n",
       "  </thead>\n",
       "  <tbody>\n",
       "    <tr>\n",
       "      <th>864</th>\n",
       "      <td>Aberoth</td>\n",
       "      <td>8334</td>\n",
       "    </tr>\n",
       "    <tr>\n",
       "      <th>2277</th>\n",
       "      <td>Path of Exile</td>\n",
       "      <td>8194</td>\n",
       "    </tr>\n",
       "    <tr>\n",
       "      <th>890</th>\n",
       "      <td>Workers &amp; Resources: Soviet Republic</td>\n",
       "      <td>6536</td>\n",
       "    </tr>\n",
       "    <tr>\n",
       "      <th>72</th>\n",
       "      <td>Dawn of Man</td>\n",
       "      <td>4014</td>\n",
       "    </tr>\n",
       "    <tr>\n",
       "      <th>4369</th>\n",
       "      <td>Wargame: Red Dragon</td>\n",
       "      <td>3484</td>\n",
       "    </tr>\n",
       "    <tr>\n",
       "      <th>3822</th>\n",
       "      <td>Hero Zero</td>\n",
       "      <td>2851</td>\n",
       "    </tr>\n",
       "    <tr>\n",
       "      <th>3720</th>\n",
       "      <td>Fell Seal: Arbiter's Mark</td>\n",
       "      <td>2644</td>\n",
       "    </tr>\n",
       "    <tr>\n",
       "      <th>2595</th>\n",
       "      <td>Automation Empire</td>\n",
       "      <td>2458</td>\n",
       "    </tr>\n",
       "    <tr>\n",
       "      <th>3428</th>\n",
       "      <td>Ninja Stealth</td>\n",
       "      <td>2179</td>\n",
       "    </tr>\n",
       "    <tr>\n",
       "      <th>1101</th>\n",
       "      <td>City Car Driving</td>\n",
       "      <td>2070</td>\n",
       "    </tr>\n",
       "  </tbody>\n",
       "</table>\n",
       "</div>"
      ],
      "text/plain": [
       "                                      Name  Average playtime forever\n",
       "864                                Aberoth                      8334\n",
       "2277                         Path of Exile                      8194\n",
       "890   Workers & Resources: Soviet Republic                      6536\n",
       "72                             Dawn of Man                      4014\n",
       "4369                   Wargame: Red Dragon                      3484\n",
       "3822                             Hero Zero                      2851\n",
       "3720             Fell Seal: Arbiter's Mark                      2644\n",
       "2595                     Automation Empire                      2458\n",
       "3428                         Ninja Stealth                      2179\n",
       "1101                      City Car Driving                      2070"
      ]
     },
     "execution_count": 79,
     "metadata": {},
     "output_type": "execute_result"
    }
   ],
   "source": [
    "q2_result[['Name', 'Average playtime forever']]"
   ]
  },
  {
   "cell_type": "markdown",
   "id": "31e2e83c",
   "metadata": {
    "papermill": {
     "duration": 0.018271,
     "end_time": "2024-09-24T00:38:55.292785",
     "exception": false,
     "start_time": "2024-09-24T00:38:55.274514",
     "status": "completed"
    },
    "tags": []
   },
   "source": [
    "## Q3: Nombre de top 5 juegos del género \"Indie\" con más reseñas positivas"
   ]
  },
  {
   "cell_type": "code",
   "execution_count": 80,
   "id": "e50177f7",
   "metadata": {
    "execution": {
     "iopub.execute_input": "2024-09-24T00:38:55.331860Z",
     "iopub.status.busy": "2024-09-24T00:38:55.331397Z",
     "iopub.status.idle": "2024-09-24T00:38:55.345385Z",
     "shell.execute_reply": "2024-09-24T00:38:55.344339Z"
    },
    "papermill": {
     "duration": 0.037186,
     "end_time": "2024-09-24T00:38:55.348617",
     "exception": false,
     "start_time": "2024-09-24T00:38:55.311431",
     "status": "completed"
    },
    "tags": []
   },
   "outputs": [
    {
     "data": {
      "text/html": [
       "<div>\n",
       "<style scoped>\n",
       "    .dataframe tbody tr th:only-of-type {\n",
       "        vertical-align: middle;\n",
       "    }\n",
       "\n",
       "    .dataframe tbody tr th {\n",
       "        vertical-align: top;\n",
       "    }\n",
       "\n",
       "    .dataframe thead th {\n",
       "        text-align: right;\n",
       "    }\n",
       "</style>\n",
       "<table border=\"1\" class=\"dataframe\">\n",
       "  <thead>\n",
       "    <tr style=\"text-align: right;\">\n",
       "      <th></th>\n",
       "      <th>AppID</th>\n",
       "      <th>Name</th>\n",
       "    </tr>\n",
       "  </thead>\n",
       "  <tbody>\n",
       "    <tr>\n",
       "      <th>2</th>\n",
       "      <td>1548270</td>\n",
       "      <td>Darkilson</td>\n",
       "    </tr>\n",
       "    <tr>\n",
       "      <th>3</th>\n",
       "      <td>2944670</td>\n",
       "      <td>Rapta</td>\n",
       "    </tr>\n",
       "    <tr>\n",
       "      <th>4</th>\n",
       "      <td>2260980</td>\n",
       "      <td>University Life Visual Novel</td>\n",
       "    </tr>\n",
       "    <tr>\n",
       "      <th>8</th>\n",
       "      <td>2258890</td>\n",
       "      <td>黑白之地 Xanadu Land</td>\n",
       "    </tr>\n",
       "    <tr>\n",
       "      <th>9</th>\n",
       "      <td>1110490</td>\n",
       "      <td>LAB Defence</td>\n",
       "    </tr>\n",
       "  </tbody>\n",
       "</table>\n",
       "</div>"
      ],
      "text/plain": [
       "     AppID                          Name\n",
       "2  1548270                     Darkilson\n",
       "3  2944670                         Rapta\n",
       "4  2260980  University Life Visual Novel\n",
       "8  2258890              黑白之地 Xanadu Land\n",
       "9  1110490                   LAB Defence"
      ]
     },
     "execution_count": 80,
     "metadata": {},
     "output_type": "execute_result"
    }
   ],
   "source": [
    "games_indie_reduced = games_indie[[\"AppID\", \"Name\"]]\n",
    "games_indie_reduced.head()"
   ]
  },
  {
   "cell_type": "code",
   "execution_count": 81,
   "id": "5722b671",
   "metadata": {
    "execution": {
     "iopub.execute_input": "2024-09-24T00:38:55.390809Z",
     "iopub.status.busy": "2024-09-24T00:38:55.390016Z",
     "iopub.status.idle": "2024-09-24T00:38:55.430528Z",
     "shell.execute_reply": "2024-09-24T00:38:55.429465Z"
    },
    "papermill": {
     "duration": 0.064749,
     "end_time": "2024-09-24T00:38:55.433125",
     "exception": false,
     "start_time": "2024-09-24T00:38:55.368376",
     "status": "completed"
    },
    "tags": []
   },
   "outputs": [],
   "source": [
    "reviews_reduced_q3 = reviews_df_cleaned[[\"app_id\", \"review_score\"]]"
   ]
  },
  {
   "cell_type": "code",
   "execution_count": 82,
   "id": "2097a5af",
   "metadata": {
    "execution": {
     "iopub.execute_input": "2024-09-24T00:38:55.474102Z",
     "iopub.status.busy": "2024-09-24T00:38:55.473680Z",
     "iopub.status.idle": "2024-09-24T00:38:55.906419Z",
     "shell.execute_reply": "2024-09-24T00:38:55.905335Z"
    },
    "papermill": {
     "duration": 0.45693,
     "end_time": "2024-09-24T00:38:55.909189",
     "exception": false,
     "start_time": "2024-09-24T00:38:55.452259",
     "status": "completed"
    },
    "tags": []
   },
   "outputs": [],
   "source": [
    "games_indie_reviews = pd.merge(games_indie_reduced, reviews_reduced_q3, left_on='AppID', right_on='app_id', how='inner')"
   ]
  },
  {
   "cell_type": "code",
   "execution_count": 83,
   "id": "e9aa3c8a",
   "metadata": {
    "execution": {
     "iopub.execute_input": "2024-09-24T00:38:55.949666Z",
     "iopub.status.busy": "2024-09-24T00:38:55.948517Z",
     "iopub.status.idle": "2024-09-24T00:38:58.261754Z",
     "shell.execute_reply": "2024-09-24T00:38:58.260755Z"
    },
    "papermill": {
     "duration": 2.336235,
     "end_time": "2024-09-24T00:38:58.264503",
     "exception": false,
     "start_time": "2024-09-24T00:38:55.928268",
     "status": "completed"
    },
    "tags": []
   },
   "outputs": [],
   "source": [
    "def positive_score(score):\n",
    "    return 1 if score > 0 else 0\n",
    "\n",
    "games_indie_reviews['positive_score'] = games_indie_reviews['review_score'].apply(positive_score)"
   ]
  },
  {
   "cell_type": "code",
   "execution_count": 84,
   "id": "9c180060",
   "metadata": {
    "execution": {
     "iopub.execute_input": "2024-09-24T00:38:58.362003Z",
     "iopub.status.busy": "2024-09-24T00:38:58.361579Z",
     "iopub.status.idle": "2024-09-24T00:38:58.719496Z",
     "shell.execute_reply": "2024-09-24T00:38:58.718526Z"
    },
    "papermill": {
     "duration": 0.438149,
     "end_time": "2024-09-24T00:38:58.722094",
     "exception": false,
     "start_time": "2024-09-24T00:38:58.283945",
     "status": "completed"
    },
    "tags": []
   },
   "outputs": [],
   "source": [
    "q3_result = games_indie_reviews.groupby('Name')['positive_score'].sum().sort_values(ascending=False).head(5)"
   ]
  },
  {
   "cell_type": "code",
   "execution_count": 85,
   "id": "16785352",
   "metadata": {
    "execution": {
     "iopub.execute_input": "2024-09-24T00:38:58.762155Z",
     "iopub.status.busy": "2024-09-24T00:38:58.761723Z",
     "iopub.status.idle": "2024-09-24T00:38:58.770063Z",
     "shell.execute_reply": "2024-09-24T00:38:58.769114Z"
    },
    "papermill": {
     "duration": 0.030988,
     "end_time": "2024-09-24T00:38:58.772303",
     "exception": false,
     "start_time": "2024-09-24T00:38:58.741315",
     "status": "completed"
    },
    "tags": []
   },
   "outputs": [
    {
     "data": {
      "text/plain": [
       "Name\n",
       "Undertale                 42284\n",
       "FTL: Faster Than Light    21302\n",
       "Insurgency                20666\n",
       "Path of Exile             17058\n",
       "Super Meat Boy             7926\n",
       "Name: positive_score, dtype: int64"
      ]
     },
     "execution_count": 85,
     "metadata": {},
     "output_type": "execute_result"
    }
   ],
   "source": [
    "q3_result.head(10)"
   ]
  },
  {
   "cell_type": "markdown",
   "id": "a6df3563",
   "metadata": {
    "papermill": {
     "duration": 0.019157,
     "end_time": "2024-09-24T00:38:58.810667",
     "exception": false,
     "start_time": "2024-09-24T00:38:58.791510",
     "status": "completed"
    },
    "tags": []
   },
   "source": [
    "## Q4: Nombre de juegos del género \"action\" con más de 5.000 reseñas negativas en idioma inglés"
   ]
  },
  {
   "cell_type": "code",
   "execution_count": 86,
   "id": "4d2d8c25",
   "metadata": {
    "execution": {
     "iopub.execute_input": "2024-09-24T00:38:58.851374Z",
     "iopub.status.busy": "2024-09-24T00:38:58.850280Z",
     "iopub.status.idle": "2024-09-24T00:38:58.916626Z",
     "shell.execute_reply": "2024-09-24T00:38:58.915533Z"
    },
    "papermill": {
     "duration": 0.089429,
     "end_time": "2024-09-24T00:38:58.919230",
     "exception": false,
     "start_time": "2024-09-24T00:38:58.829801",
     "status": "completed"
    },
    "tags": []
   },
   "outputs": [
    {
     "data": {
      "text/plain": [
       "(1896, 2)"
      ]
     },
     "execution_count": 86,
     "metadata": {},
     "output_type": "execute_result"
    }
   ],
   "source": [
    "# Juegos de acción\n",
    "games_action = games_df_cleaned[games_df_cleaned[\"Genres\"].str.contains(\"action\")]\n",
    "games_action_reduced = games_action[[\"AppID\", \"Name\"]]\n",
    "games_action_reduced.shape"
   ]
  },
  {
   "cell_type": "code",
   "execution_count": 87,
   "id": "79668cbf",
   "metadata": {
    "execution": {
     "iopub.execute_input": "2024-09-24T00:38:58.960972Z",
     "iopub.status.busy": "2024-09-24T00:38:58.960021Z",
     "iopub.status.idle": "2024-09-24T00:38:59.128688Z",
     "shell.execute_reply": "2024-09-24T00:38:59.127556Z"
    },
    "papermill": {
     "duration": 0.192527,
     "end_time": "2024-09-24T00:38:59.131371",
     "exception": false,
     "start_time": "2024-09-24T00:38:58.938844",
     "status": "completed"
    },
    "tags": []
   },
   "outputs": [],
   "source": [
    "reviews_q4 = reviews_df_cleaned.copy()"
   ]
  },
  {
   "cell_type": "code",
   "execution_count": 102,
   "id": "7b658548",
   "metadata": {
    "execution": {
     "iopub.execute_input": "2024-09-24T00:38:59.173714Z",
     "iopub.status.busy": "2024-09-24T00:38:59.172317Z",
     "iopub.status.idle": "2024-09-24T00:39:04.482044Z",
     "shell.execute_reply": "2024-09-24T00:39:04.481041Z"
    },
    "papermill": {
     "duration": 5.333677,
     "end_time": "2024-09-24T00:39:04.484630",
     "exception": false,
     "start_time": "2024-09-24T00:38:59.150953",
     "status": "completed"
    },
    "tags": []
   },
   "outputs": [
    {
     "data": {
      "text/plain": [
       "(4, 2)"
      ]
     },
     "execution_count": 102,
     "metadata": {},
     "output_type": "execute_result"
    }
   ],
   "source": [
    "# Reviews con mas de 5000 comentarios negativos\n",
    "\n",
    "def negative_score(score):\n",
    "    return 1 if score < 0 else 0\n",
    "\n",
    "reviews_q4[\"negative_score\"] = reviews_q4[\"review_score\"].apply(negative_score)\n",
    "reviews_q4_negatives = reviews_q4[reviews_q4[\"negative_score\"] == 1].copy()\n",
    "reviews_count = reviews_q4_negatives.groupby('app_id').size().reset_index(name='count')\n",
    "# reviews_count_more_than_5000 = reviews_count[reviews_count[\"count\"] > 5000]\n",
    "reviews_count_more_than_5000 = reviews_count[reviews_count[\"count\"] > 1200]\n",
    "reviews_count_more_than_5000.shape"
   ]
  },
  {
   "cell_type": "code",
   "execution_count": 103,
   "id": "295b9706",
   "metadata": {
    "execution": {
     "iopub.execute_input": "2024-09-24T00:39:04.528681Z",
     "iopub.status.busy": "2024-09-24T00:39:04.527777Z",
     "iopub.status.idle": "2024-09-24T00:39:04.543164Z",
     "shell.execute_reply": "2024-09-24T00:39:04.542024Z"
    },
    "papermill": {
     "duration": 0.038876,
     "end_time": "2024-09-24T00:39:04.545661",
     "exception": false,
     "start_time": "2024-09-24T00:39:04.506785",
     "status": "completed"
    },
    "tags": []
   },
   "outputs": [
    {
     "data": {
      "text/plain": [
       "(3, 2)"
      ]
     },
     "execution_count": 103,
     "metadata": {},
     "output_type": "execute_result"
    }
   ],
   "source": [
    "# De las reviews con mas de 5000 comentarios negativos, nos quedamos con aquellas que sean sobre juegos de acción\n",
    "games_action_with_5000_negative_reviews = pd.merge(games_action_reduced, reviews_count_more_than_5000, left_on='AppID', right_on=\"app_id\", how='inner')\n",
    "games_action_with_5000_negative_reviews = games_action_with_5000_negative_reviews[[\"AppID\", \"Name\"]]\n",
    "games_action_with_5000_negative_reviews.shape"
   ]
  },
  {
   "cell_type": "code",
   "execution_count": 104,
   "id": "8292433b",
   "metadata": {
    "execution": {
     "iopub.execute_input": "2024-09-24T00:39:04.587588Z",
     "iopub.status.busy": "2024-09-24T00:39:04.587168Z",
     "iopub.status.idle": "2024-09-24T00:39:04.926770Z",
     "shell.execute_reply": "2024-09-24T00:39:04.925618Z"
    },
    "papermill": {
     "duration": 0.363289,
     "end_time": "2024-09-24T00:39:04.929271",
     "exception": false,
     "start_time": "2024-09-24T00:39:04.565982",
     "status": "completed"
    },
    "tags": []
   },
   "outputs": [
    {
     "data": {
      "text/plain": [
       "(43816, 2)"
      ]
     },
     "execution_count": 104,
     "metadata": {},
     "output_type": "execute_result"
    }
   ],
   "source": [
    "# Enriquecemos con el texto de la review\n",
    "reviews_count_more_than_5000_with_text = pd.merge(reviews_q4, games_action_with_5000_negative_reviews, left_on='app_id', right_on=\"AppID\", how='inner')\n",
    "reviews_count_more_than_5000_with_text = reviews_count_more_than_5000_with_text[[\"app_id\", \"review_text\"]]\n",
    "reviews_count_more_than_5000_with_text.shape"
   ]
  },
  {
   "cell_type": "code",
   "execution_count": 105,
   "id": "76f706a5",
   "metadata": {
    "execution": {
     "iopub.execute_input": "2024-09-24T00:39:04.970782Z",
     "iopub.status.busy": "2024-09-24T00:39:04.970351Z",
     "iopub.status.idle": "2024-09-24T01:03:17.626061Z",
     "shell.execute_reply": "2024-09-24T01:03:17.624004Z"
    },
    "papermill": {
     "duration": 1452.726373,
     "end_time": "2024-09-24T01:03:17.675392",
     "exception": false,
     "start_time": "2024-09-24T00:39:04.949019",
     "status": "completed"
    },
    "tags": []
   },
   "outputs": [
    {
     "name": "stdout",
     "output_type": "stream",
     "text": [
      "Execution time on 43816 rows: 55.14 seconds\n"
     ]
    }
   ],
   "source": [
    "# CPU INTENSIVE #############################\n",
    "def detect_language(texto):\n",
    "    language, _ = langid.classify(texto)\n",
    "    return language\n",
    "#############################################\n",
    "\n",
    "# Calculo del idioma sobre las reviews\n",
    "start_time = time.time()\n",
    "reviews_count_more_than_5000_with_text[\"review_language\"] = reviews_count_more_than_5000_with_text['review_text'].apply(detect_language)\n",
    "elapsed_time = time.time() - start_time\n",
    "print(f\"Execution time on {reviews_count_more_than_5000_with_text.shape[0]} rows: {elapsed_time:.2f} seconds\")\n",
    "\n",
    "# Con el dataset original y más de 5000 reviews tarda 722.20 segundos\n",
    "# Con el dataset reducido y más de 250 reviews tarda x segundos"
   ]
  },
  {
   "cell_type": "code",
   "execution_count": 106,
   "id": "4b18d89a",
   "metadata": {
    "execution": {
     "iopub.execute_input": "2024-09-24T01:03:17.747931Z",
     "iopub.status.busy": "2024-09-24T01:03:17.747133Z",
     "iopub.status.idle": "2024-09-24T01:03:17.753456Z",
     "shell.execute_reply": "2024-09-24T01:03:17.752642Z"
    },
    "papermill": {
     "duration": 0.038672,
     "end_time": "2024-09-24T01:03:17.755780",
     "exception": false,
     "start_time": "2024-09-24T01:03:17.717108",
     "status": "completed"
    },
    "tags": []
   },
   "outputs": [
    {
     "data": {
      "text/plain": [
       "(43816, 3)"
      ]
     },
     "execution_count": 106,
     "metadata": {},
     "output_type": "execute_result"
    }
   ],
   "source": [
    "reviews_count_more_than_5000_with_text.shape"
   ]
  },
  {
   "cell_type": "code",
   "execution_count": 107,
   "id": "24467bfc",
   "metadata": {
    "execution": {
     "iopub.execute_input": "2024-09-24T01:03:17.799255Z",
     "iopub.status.busy": "2024-09-24T01:03:17.798267Z",
     "iopub.status.idle": "2024-09-24T01:03:17.972145Z",
     "shell.execute_reply": "2024-09-24T01:03:17.970927Z"
    },
    "papermill": {
     "duration": 0.198695,
     "end_time": "2024-09-24T01:03:17.975122",
     "exception": false,
     "start_time": "2024-09-24T01:03:17.776427",
     "status": "completed"
    },
    "tags": []
   },
   "outputs": [
    {
     "data": {
      "text/plain": [
       "(42629, 3)"
      ]
     },
     "execution_count": 107,
     "metadata": {},
     "output_type": "execute_result"
    }
   ],
   "source": [
    "# Nos quedamos con aquellas reviews que estan en idioma inglés\n",
    "reviews_count_more_than_5000_with_text_english = reviews_count_more_than_5000_with_text[reviews_count_more_than_5000_with_text[\"review_language\"] == \"en\"]\n",
    "reviews_count_more_than_5000_with_text_english.shape"
   ]
  },
  {
   "cell_type": "code",
   "execution_count": 109,
   "id": "ca221cd4",
   "metadata": {
    "execution": {
     "iopub.execute_input": "2024-09-24T01:03:18.018294Z",
     "iopub.status.busy": "2024-09-24T01:03:18.017832Z",
     "iopub.status.idle": "2024-09-24T01:03:18.043902Z",
     "shell.execute_reply": "2024-09-24T01:03:18.042786Z"
    },
    "papermill": {
     "duration": 0.050604,
     "end_time": "2024-09-24T01:03:18.046424",
     "exception": false,
     "start_time": "2024-09-24T01:03:17.995820",
     "status": "completed"
    },
    "tags": []
   },
   "outputs": [
    {
     "data": {
      "text/html": [
       "<div>\n",
       "<style scoped>\n",
       "    .dataframe tbody tr th:only-of-type {\n",
       "        vertical-align: middle;\n",
       "    }\n",
       "\n",
       "    .dataframe tbody tr th {\n",
       "        vertical-align: top;\n",
       "    }\n",
       "\n",
       "    .dataframe thead th {\n",
       "        text-align: right;\n",
       "    }\n",
       "</style>\n",
       "<table border=\"1\" class=\"dataframe\">\n",
       "  <thead>\n",
       "    <tr style=\"text-align: right;\">\n",
       "      <th></th>\n",
       "      <th>app_id</th>\n",
       "      <th>count</th>\n",
       "    </tr>\n",
       "  </thead>\n",
       "  <tbody>\n",
       "    <tr>\n",
       "      <th>0</th>\n",
       "      <td>222880</td>\n",
       "      <td>21817</td>\n",
       "    </tr>\n",
       "    <tr>\n",
       "      <th>1</th>\n",
       "      <td>238960</td>\n",
       "      <td>17817</td>\n",
       "    </tr>\n",
       "    <tr>\n",
       "      <th>2</th>\n",
       "      <td>292730</td>\n",
       "      <td>2995</td>\n",
       "    </tr>\n",
       "  </tbody>\n",
       "</table>\n",
       "</div>"
      ],
      "text/plain": [
       "   app_id  count\n",
       "0  222880  21817\n",
       "1  238960  17817\n",
       "2  292730   2995"
      ]
     },
     "execution_count": 109,
     "metadata": {},
     "output_type": "execute_result"
    }
   ],
   "source": [
    "# Nos quedamos con aquellos juegos que tengan mas de 5000 reseñas negativas en inglés\n",
    "q4_results_app_ids = reviews_count_more_than_5000_with_text_english.groupby('app_id').size().reset_index(name='count')\n",
    "# q4_results_app_ids = q4_results_app_ids[q4_results_app_ids[\"count\"] > 5000]\n",
    "q4_results_app_ids = q4_results_app_ids[q4_results_app_ids[\"count\"] > 1200]\n",
    "q4_results_app_ids.head(25)"
   ]
  },
  {
   "cell_type": "code",
   "execution_count": 110,
   "id": "b2535595",
   "metadata": {
    "execution": {
     "iopub.execute_input": "2024-09-24T01:03:18.090640Z",
     "iopub.status.busy": "2024-09-24T01:03:18.090153Z",
     "iopub.status.idle": "2024-09-24T01:03:18.103135Z",
     "shell.execute_reply": "2024-09-24T01:03:18.102048Z"
    },
    "papermill": {
     "duration": 0.038424,
     "end_time": "2024-09-24T01:03:18.106024",
     "exception": false,
     "start_time": "2024-09-24T01:03:18.067600",
     "status": "completed"
    },
    "tags": []
   },
   "outputs": [
    {
     "data": {
      "text/plain": [
       "0                         Insurgency\n",
       "1                      Path of Exile\n",
       "2    Call of Duty®: Infinite Warfare\n",
       "Name: Name, dtype: object"
      ]
     },
     "execution_count": 110,
     "metadata": {},
     "output_type": "execute_result"
    }
   ],
   "source": [
    "# Enriquecemos con el nombre de esos juegos\n",
    "q4_results_games_names = pd.merge(q4_results_app_ids, games_action_with_5000_negative_reviews, left_on='app_id', right_on=\"AppID\", how='inner')[\"Name\"]\n",
    "q4_results_games_names.head(25)"
   ]
  },
  {
   "cell_type": "markdown",
   "id": "cd13ce2a",
   "metadata": {
    "papermill": {
     "duration": 0.020989,
     "end_time": "2024-09-24T01:03:18.148410",
     "exception": false,
     "start_time": "2024-09-24T01:03:18.127421",
     "status": "completed"
    },
    "tags": []
   },
   "source": [
    "## Q5: Nombre de juegos del género \"action\" dentro del percentil 90 en cantidad de reseñas negativas"
   ]
  },
  {
   "cell_type": "code",
   "execution_count": 111,
   "id": "8f881457",
   "metadata": {
    "execution": {
     "iopub.execute_input": "2024-09-24T01:03:18.193639Z",
     "iopub.status.busy": "2024-09-24T01:03:18.192512Z",
     "iopub.status.idle": "2024-09-24T01:03:18.204621Z",
     "shell.execute_reply": "2024-09-24T01:03:18.203167Z"
    },
    "papermill": {
     "duration": 0.037433,
     "end_time": "2024-09-24T01:03:18.207233",
     "exception": false,
     "start_time": "2024-09-24T01:03:18.169800",
     "status": "completed"
    },
    "tags": []
   },
   "outputs": [
    {
     "data": {
      "text/html": [
       "<div>\n",
       "<style scoped>\n",
       "    .dataframe tbody tr th:only-of-type {\n",
       "        vertical-align: middle;\n",
       "    }\n",
       "\n",
       "    .dataframe tbody tr th {\n",
       "        vertical-align: top;\n",
       "    }\n",
       "\n",
       "    .dataframe thead th {\n",
       "        text-align: right;\n",
       "    }\n",
       "</style>\n",
       "<table border=\"1\" class=\"dataframe\">\n",
       "  <thead>\n",
       "    <tr style=\"text-align: right;\">\n",
       "      <th></th>\n",
       "      <th>AppID</th>\n",
       "      <th>Name</th>\n",
       "    </tr>\n",
       "  </thead>\n",
       "  <tbody>\n",
       "    <tr>\n",
       "      <th>4</th>\n",
       "      <td>2260980</td>\n",
       "      <td>University Life Visual Novel</td>\n",
       "    </tr>\n",
       "    <tr>\n",
       "      <th>7</th>\n",
       "      <td>1687430</td>\n",
       "      <td>Z Mutants</td>\n",
       "    </tr>\n",
       "    <tr>\n",
       "      <th>9</th>\n",
       "      <td>1110490</td>\n",
       "      <td>LAB Defence</td>\n",
       "    </tr>\n",
       "    <tr>\n",
       "      <th>10</th>\n",
       "      <td>1270670</td>\n",
       "      <td>Touhou Double Focus</td>\n",
       "    </tr>\n",
       "    <tr>\n",
       "      <th>12</th>\n",
       "      <td>1957780</td>\n",
       "      <td>Ghosts of Tabor</td>\n",
       "    </tr>\n",
       "  </tbody>\n",
       "</table>\n",
       "</div>"
      ],
      "text/plain": [
       "      AppID                          Name\n",
       "4   2260980  University Life Visual Novel\n",
       "7   1687430                     Z Mutants\n",
       "9   1110490                   LAB Defence\n",
       "10  1270670           Touhou Double Focus\n",
       "12  1957780               Ghosts of Tabor"
      ]
     },
     "execution_count": 111,
     "metadata": {},
     "output_type": "execute_result"
    }
   ],
   "source": [
    "games_action_reduced.head()"
   ]
  },
  {
   "cell_type": "code",
   "execution_count": 112,
   "id": "15d86546",
   "metadata": {
    "execution": {
     "iopub.execute_input": "2024-09-24T01:03:18.252378Z",
     "iopub.status.busy": "2024-09-24T01:03:18.251955Z",
     "iopub.status.idle": "2024-09-24T01:03:18.259638Z",
     "shell.execute_reply": "2024-09-24T01:03:18.258512Z"
    },
    "papermill": {
     "duration": 0.032911,
     "end_time": "2024-09-24T01:03:18.261907",
     "exception": false,
     "start_time": "2024-09-24T01:03:18.228996",
     "status": "completed"
    },
    "tags": []
   },
   "outputs": [
    {
     "data": {
      "text/plain": [
       "(1896, 2)"
      ]
     },
     "execution_count": 112,
     "metadata": {},
     "output_type": "execute_result"
    }
   ],
   "source": [
    "games_action_reduced.shape"
   ]
  },
  {
   "cell_type": "code",
   "execution_count": 113,
   "id": "2e76ff2b",
   "metadata": {
    "execution": {
     "iopub.execute_input": "2024-09-24T01:03:18.309034Z",
     "iopub.status.busy": "2024-09-24T01:03:18.308446Z",
     "iopub.status.idle": "2024-09-24T01:03:23.764055Z",
     "shell.execute_reply": "2024-09-24T01:03:23.762909Z"
    },
    "papermill": {
     "duration": 5.483091,
     "end_time": "2024-09-24T01:03:23.766726",
     "exception": false,
     "start_time": "2024-09-24T01:03:18.283635",
     "status": "completed"
    },
    "tags": []
   },
   "outputs": [
    {
     "data": {
      "text/plain": [
       "(36738, 3)"
      ]
     },
     "execution_count": 113,
     "metadata": {},
     "output_type": "execute_result"
    }
   ],
   "source": [
    "reviews_q5 = reviews_df_cleaned.copy()\n",
    "reviews_q5 = reviews_q5[[\"app_id\", \"review_score\"]]\n",
    "reviews_q5[\"negative_score\"] = reviews_q5[\"review_score\"].apply(negative_score)\n",
    "reviews_q5_negative_score = reviews_q5[reviews_q5[\"negative_score\"] == 1]\n",
    "reviews_q5_negative_score.shape"
   ]
  },
  {
   "cell_type": "code",
   "execution_count": 114,
   "id": "509e4465",
   "metadata": {
    "execution": {
     "iopub.execute_input": "2024-09-24T01:03:23.812842Z",
     "iopub.status.busy": "2024-09-24T01:03:23.812391Z",
     "iopub.status.idle": "2024-09-24T01:03:23.952243Z",
     "shell.execute_reply": "2024-09-24T01:03:23.951114Z"
    },
    "papermill": {
     "duration": 0.166486,
     "end_time": "2024-09-24T01:03:23.955334",
     "exception": false,
     "start_time": "2024-09-24T01:03:23.788848",
     "status": "completed"
    },
    "tags": []
   },
   "outputs": [
    {
     "data": {
      "text/plain": [
       "(21167, 5)"
      ]
     },
     "execution_count": 114,
     "metadata": {},
     "output_type": "execute_result"
    }
   ],
   "source": [
    "reviews_q5_negative_score_action = pd.merge(reviews_q5_negative_score, games_action_reduced, left_on='app_id', right_on=\"AppID\", how='inner')\n",
    "reviews_q5_negative_score_action.shape"
   ]
  },
  {
   "cell_type": "code",
   "execution_count": 115,
   "id": "1f09d87c",
   "metadata": {
    "execution": {
     "iopub.execute_input": "2024-09-24T01:03:24.005408Z",
     "iopub.status.busy": "2024-09-24T01:03:24.004978Z",
     "iopub.status.idle": "2024-09-24T01:03:24.028734Z",
     "shell.execute_reply": "2024-09-24T01:03:24.027509Z"
    },
    "papermill": {
     "duration": 0.051133,
     "end_time": "2024-09-24T01:03:24.031641",
     "exception": false,
     "start_time": "2024-09-24T01:03:23.980508",
     "status": "completed"
    },
    "tags": []
   },
   "outputs": [
    {
     "data": {
      "text/plain": [
       "(210, 2)"
      ]
     },
     "execution_count": 115,
     "metadata": {},
     "output_type": "execute_result"
    }
   ],
   "source": [
    "reviews_q5_negative_score_action_by_app_id = reviews_q5_negative_score_action.groupby('app_id').size().reset_index(name='count')\n",
    "reviews_q5_negative_score_action_by_app_id.shape"
   ]
  },
  {
   "cell_type": "code",
   "execution_count": 116,
   "id": "c4b552bf",
   "metadata": {
    "execution": {
     "iopub.execute_input": "2024-09-24T01:03:24.079743Z",
     "iopub.status.busy": "2024-09-24T01:03:24.078733Z",
     "iopub.status.idle": "2024-09-24T01:03:24.090079Z",
     "shell.execute_reply": "2024-09-24T01:03:24.088949Z"
    },
    "papermill": {
     "duration": 0.038314,
     "end_time": "2024-09-24T01:03:24.092603",
     "exception": false,
     "start_time": "2024-09-24T01:03:24.054289",
     "status": "completed"
    },
    "tags": []
   },
   "outputs": [
    {
     "data": {
      "text/plain": [
       "np.float64(218.0)"
      ]
     },
     "execution_count": 116,
     "metadata": {},
     "output_type": "execute_result"
    }
   ],
   "source": [
    "percentil_90 = reviews_q5_negative_score_action_by_app_id['count'].quantile(0.90)\n",
    "percentil_90"
   ]
  },
  {
   "cell_type": "code",
   "execution_count": 117,
   "id": "1bd52225",
   "metadata": {
    "execution": {
     "iopub.execute_input": "2024-09-24T01:03:24.140986Z",
     "iopub.status.busy": "2024-09-24T01:03:24.139830Z",
     "iopub.status.idle": "2024-09-24T01:03:24.151274Z",
     "shell.execute_reply": "2024-09-24T01:03:24.148965Z"
    },
    "papermill": {
     "duration": 0.039458,
     "end_time": "2024-09-24T01:03:24.155036",
     "exception": false,
     "start_time": "2024-09-24T01:03:24.115578",
     "status": "completed"
    },
    "tags": []
   },
   "outputs": [
    {
     "data": {
      "text/plain": [
       "(22, 2)"
      ]
     },
     "execution_count": 117,
     "metadata": {},
     "output_type": "execute_result"
    }
   ],
   "source": [
    "q5_result = reviews_q5_negative_score_action_by_app_id[reviews_q5_negative_score_action_by_app_id['count'] >= percentil_90]\n",
    "q5_result.shape"
   ]
  },
  {
   "cell_type": "code",
   "execution_count": 118,
   "id": "4da43e31",
   "metadata": {
    "execution": {
     "iopub.execute_input": "2024-09-24T01:03:24.216408Z",
     "iopub.status.busy": "2024-09-24T01:03:24.215884Z",
     "iopub.status.idle": "2024-09-24T01:03:24.244643Z",
     "shell.execute_reply": "2024-09-24T01:03:24.242807Z"
    },
    "papermill": {
     "duration": 0.063501,
     "end_time": "2024-09-24T01:03:24.247728",
     "exception": false,
     "start_time": "2024-09-24T01:03:24.184227",
     "status": "completed"
    },
    "tags": []
   },
   "outputs": [
    {
     "data": {
      "text/html": [
       "<div>\n",
       "<style scoped>\n",
       "    .dataframe tbody tr th:only-of-type {\n",
       "        vertical-align: middle;\n",
       "    }\n",
       "\n",
       "    .dataframe tbody tr th {\n",
       "        vertical-align: top;\n",
       "    }\n",
       "\n",
       "    .dataframe thead th {\n",
       "        text-align: right;\n",
       "    }\n",
       "</style>\n",
       "<table border=\"1\" class=\"dataframe\">\n",
       "  <thead>\n",
       "    <tr style=\"text-align: right;\">\n",
       "      <th></th>\n",
       "      <th>app_id</th>\n",
       "      <th>Name</th>\n",
       "    </tr>\n",
       "  </thead>\n",
       "  <tbody>\n",
       "    <tr>\n",
       "      <th>0</th>\n",
       "      <td>500</td>\n",
       "      <td>Left 4 Dead</td>\n",
       "    </tr>\n",
       "    <tr>\n",
       "      <th>1</th>\n",
       "      <td>620</td>\n",
       "      <td>Portal 2</td>\n",
       "    </tr>\n",
       "    <tr>\n",
       "      <th>2</th>\n",
       "      <td>8080</td>\n",
       "      <td>Kane and Lynch: Dead Men™</td>\n",
       "    </tr>\n",
       "    <tr>\n",
       "      <th>3</th>\n",
       "      <td>8500</td>\n",
       "      <td>EVE Online</td>\n",
       "    </tr>\n",
       "    <tr>\n",
       "      <th>4</th>\n",
       "      <td>17410</td>\n",
       "      <td>Mirror's Edge™</td>\n",
       "    </tr>\n",
       "    <tr>\n",
       "      <th>5</th>\n",
       "      <td>21100</td>\n",
       "      <td>F.E.A.R. 3</td>\n",
       "    </tr>\n",
       "    <tr>\n",
       "      <th>6</th>\n",
       "      <td>92000</td>\n",
       "      <td>Hydrophobia: Prophecy</td>\n",
       "    </tr>\n",
       "    <tr>\n",
       "      <th>7</th>\n",
       "      <td>111900</td>\n",
       "      <td>Guardians of Middle-earth</td>\n",
       "    </tr>\n",
       "    <tr>\n",
       "      <th>8</th>\n",
       "      <td>204300</td>\n",
       "      <td>Awesomenauts - the 2D moba</td>\n",
       "    </tr>\n",
       "    <tr>\n",
       "      <th>9</th>\n",
       "      <td>205100</td>\n",
       "      <td>Dishonored</td>\n",
       "    </tr>\n",
       "  </tbody>\n",
       "</table>\n",
       "</div>"
      ],
      "text/plain": [
       "   app_id                        Name\n",
       "0     500                 Left 4 Dead\n",
       "1     620                    Portal 2\n",
       "2    8080   Kane and Lynch: Dead Men™\n",
       "3    8500                  EVE Online\n",
       "4   17410              Mirror's Edge™\n",
       "5   21100                  F.E.A.R. 3\n",
       "6   92000       Hydrophobia: Prophecy\n",
       "7  111900   Guardians of Middle-earth\n",
       "8  204300  Awesomenauts - the 2D moba\n",
       "9  205100                  Dishonored"
      ]
     },
     "execution_count": 118,
     "metadata": {},
     "output_type": "execute_result"
    }
   ],
   "source": [
    "q5_result_with_game_names = pd.merge(q5_result, games_action_reduced, left_on='app_id', right_on=\"AppID\", how='inner')\n",
    "q5_result_with_game_names[[\"app_id\", \"Name\"]].head(10)"
   ]
  }
 ],
 "metadata": {
  "kaggle": {
   "accelerator": "none",
   "dataSources": [
    {
     "datasetId": 1754525,
     "sourceId": 2865831,
     "sourceType": "datasetVersion"
    },
    {
     "datasetId": 2109585,
     "sourceId": 9310676,
     "sourceType": "datasetVersion"
    }
   ],
   "dockerImageVersionId": 30761,
   "isGpuEnabled": false,
   "isInternetEnabled": false,
   "language": "python",
   "sourceType": "notebook"
  },
  "kernelspec": {
   "display_name": "Python 3",
   "language": "python",
   "name": "python3"
  },
  "language_info": {
   "codemirror_mode": {
    "name": "ipython",
    "version": 3
   },
   "file_extension": ".py",
   "mimetype": "text/x-python",
   "name": "python",
   "nbconvert_exporter": "python",
   "pygments_lexer": "ipython3",
   "version": "3.12.5"
  },
  "papermill": {
   "default_parameters": {},
   "duration": 1589.208417,
   "end_time": "2024-09-24T01:03:26.099117",
   "environment_variables": {},
   "exception": null,
   "input_path": "__notebook__.ipynb",
   "output_path": "__notebook__.ipynb",
   "parameters": {},
   "start_time": "2024-09-24T00:36:56.890700",
   "version": "2.6.0"
  }
 },
 "nbformat": 4,
 "nbformat_minor": 5
}
