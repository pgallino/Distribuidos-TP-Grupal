{
 "cells": [
  {
   "cell_type": "code",
   "execution_count": 1,
   "metadata": {},
   "outputs": [],
   "source": [
    "import numpy as np # linear algebra\n",
    "import pandas as pd # data processing, CSV file I/O (e.g. pd.read_csv)\n",
    "import os\n",
    "import langid\n",
    "import time\n",
    "\n",
    "pd.set_option('display.max_columns', None)\n",
    "pd.set_option('display.max_colwidth', 100)"
   ]
  },
  {
   "cell_type": "code",
   "execution_count": 3,
   "metadata": {},
   "outputs": [],
   "source": [
    "games_df = pd.read_csv('games.csv', header=None, skiprows=1)\n",
    "reviews_df = pd.read_csv('reviews.csv')"
   ]
  },
  {
   "cell_type": "code",
   "execution_count": 17,
   "metadata": {},
   "outputs": [],
   "source": [
    "# Agrego columna \"Unknown\" ya que no viene nomenclada y genera un desfasaje en los indices de columnas\n",
    "games_df_column_names = ['AppID', 'Name', 'Release date', 'Estimated owners', 'Peak CCU', \n",
    "                    'Required age', 'Price', 'Unknown', 'DiscountDLC count', 'About the game', \n",
    "                    'Supported languages', 'Full audio languages', 'Reviews', 'Header image', \n",
    "                    'Website', 'Support url', 'Support email', 'Windows', 'Mac', \n",
    "                    'Linux', 'Metacritic score', 'Metacritic url', 'User score', \n",
    "                    'Positive', 'Negative', 'Score rank', 'Achievements', \n",
    "                    'Recommendations', 'Notes', 'Average playtime forever', \n",
    "                    'Average playtime two weeks', 'Median playtime forever', \n",
    "                    'Median playtime two weeks', 'Developers', 'Publishers', \n",
    "                    'Categories', 'Genres', 'Tags', 'Screenshots', 'Movies']\n",
    "games_df.columns = games_df_column_names"
   ]
  },
  {
   "cell_type": "code",
   "execution_count": 6,
   "metadata": {},
   "outputs": [],
   "source": [
    "# reviews_df[reviews_df['app_name'].isin(reviews_df['app_name'].value_counts().head(10).index)]"
   ]
  },
  {
   "cell_type": "code",
   "execution_count": 18,
   "metadata": {},
   "outputs": [
    {
     "data": {
      "text/plain": [
       "(97410, 6417106)"
      ]
     },
     "execution_count": 18,
     "metadata": {},
     "output_type": "execute_result"
    }
   ],
   "source": [
    "num_games = len(games_df)\n",
    "num_reviews = len(reviews_df)\n",
    "num_games, num_reviews"
   ]
  },
  {
   "cell_type": "code",
   "execution_count": 19,
   "metadata": {},
   "outputs": [
    {
     "data": {
      "text/plain": [
       "(4870, 320855)"
      ]
     },
     "execution_count": 19,
     "metadata": {},
     "output_type": "execute_result"
    }
   ],
   "source": [
    "reduccion = 0.05\n",
    "num_juegos_reducidos = int(num_games * reduccion)\n",
    "num_reviews_reducidos = int(num_reviews * reduccion)\n",
    "num_juegos_reducidos, num_reviews_reducidos"
   ]
  },
  {
   "cell_type": "code",
   "execution_count": 21,
   "metadata": {},
   "outputs": [
    {
     "data": {
      "text/plain": [
       "(4870, 320855)"
      ]
     },
     "execution_count": 21,
     "metadata": {},
     "output_type": "execute_result"
    }
   ],
   "source": [
    "juegos_reducidos_df = games_df.sample(n=num_juegos_reducidos, random_state=1)\n",
    "# Filtra las reviews que corresponden a los juegos seleccionados\n",
    "reviews_reducidos_df = reviews_df[reviews_df['app_id'].isin(juegos_reducidos_df['AppID'])]\n",
    "# Si es necesario, reduce el número de reviews\n",
    "reviews_reducidos_df = reviews_reducidos_df.sample(n=num_reviews_reducidos, random_state=1)\n",
    "len(juegos_reducidos_df), len(reviews_reducidos_df)"
   ]
  },
  {
   "cell_type": "code",
   "execution_count": 22,
   "metadata": {},
   "outputs": [],
   "source": [
    "juegos_reducidos_df.to_csv('juegos_steam_reducidos.csv', index=False)\n",
    "reviews_reducidos_df.to_csv('reviews_steam_reducidos.csv', index=False)"
   ]
  }
 ],
 "metadata": {
  "kernelspec": {
   "display_name": "Python 3",
   "language": "python",
   "name": "python3"
  },
  "language_info": {
   "codemirror_mode": {
    "name": "ipython",
    "version": 3
   },
   "file_extension": ".py",
   "mimetype": "text/x-python",
   "name": "python",
   "nbconvert_exporter": "python",
   "pygments_lexer": "ipython3",
   "version": "3.12.5"
  }
 },
 "nbformat": 4,
 "nbformat_minor": 2
}
